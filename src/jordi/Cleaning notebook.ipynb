{
 "cells": [
  {
   "cell_type": "markdown",
   "id": "3149d3da-d9dc-4694-ad85-da8e5cfad831",
   "metadata": {},
   "source": [
    "# IMMOWEB PROJECT: EXPLORATORY DATA ANALYSIS"
   ]
  },
  {
   "cell_type": "markdown",
   "id": "751cd13c-5739-4336-a28c-9974181a1854",
   "metadata": {},
   "source": [
    "## LIBRARIES AND SETTINGS"
   ]
  },
  {
   "cell_type": "code",
   "execution_count": 1,
   "id": "56ce2644-d11e-42ca-8b3a-159036a73939",
   "metadata": {},
   "outputs": [
    {
     "data": {
      "text/html": [
       "\n",
       "            <div>\n",
       "                <ins><a href=\"https://ydata.ai/register\">Upgrade to ydata-sdk</a></ins>\n",
       "                <p>\n",
       "                    Improve your data and profiling with ydata-sdk, featuring data quality scoring, redundancy detection, outlier identification, text validation, and synthetic data generation.\n",
       "                </p>\n",
       "            </div>\n",
       "            "
      ],
      "text/plain": [
       "<IPython.core.display.HTML object>"
      ]
     },
     "metadata": {},
     "output_type": "display_data"
    }
   ],
   "source": [
    "# Set the notebook to show all outputs in the cell\n",
    "from IPython.core.interactiveshell import InteractiveShell\n",
    "InteractiveShell.ast_node_interactivity = \"all\"\n",
    "\n",
    "from ydata_profiling import ProfileReport\n",
    "\n",
    "# This is for reading the locality name properly. In avoiding the encoding error\n",
    "import csv\n",
    "import os\n",
    "\n",
    "import numpy as np\n",
    "\n",
    "import warnings\n",
    "warnings.filterwarnings('ignore')\n",
    "\n",
    "# Pandas options for data wrangling and output set-up \n",
    "import pandas as pd\n",
    "pd.set_option('display.max_columns', None) # display all columns\n",
    "pd.set_option('display.expand_frame_repr', False) # print all columns and in the same line\n",
    "pd.set_option('display.max_colwidth', None) # display the full content of each cell\n",
    "pd.set_option('display.float_format', lambda x: '%.2f' %x) # floats to be displayed with 2 decimal places"
   ]
  },
  {
   "cell_type": "markdown",
   "id": "ec5cc8b3-f377-4e78-830b-9566c29aa7b7",
   "metadata": {},
   "source": [
    "## FUNCTIONS USED RECURRENTLY"
   ]
  },
  {
   "cell_type": "code",
   "execution_count": 2,
   "id": "7d82f102-3b4d-4296-8821-7d76ecdd910b",
   "metadata": {},
   "outputs": [],
   "source": [
    "# Function to run basic data frame description\n",
    "def Descriptives(df):\n",
    "    print(\"Looking at the shape to see the number of records:\", df.shape)\n",
    "    print(\"\\nDescription of the file to check values range:\")\n",
    "    print(df.describe().transpose())\n",
    "    print(\"\\nAttributes and respective data types:\")\n",
    "    print(df.info())\n",
    "\n",
    "def MemOptimisation(df):\n",
    "    print(f\"\\nAmount of memory used by all attributes: {df.memory_usage(deep=True).sum()}\\n\")\n",
    "    \n",
    "    # Optimise memory usage\n",
    "    for i in categoric_cols:\n",
    "        df[i] = df[i].astype('category')\n",
    "    for i in numeric_cols:\n",
    "        df[i] = pd.to_numeric(df[i], downcast='integer')\n",
    "        df[i] = pd.to_numeric(df[i], downcast='float')    \n",
    "\n",
    "    print(df.info(memory_usage='deep'))\n",
    "    print(\"\\nAmount of memory used now by all attributes: \",df.memory_usage(deep=True).sum())\n",
    "    \n",
    "# Function to check the missing values (NaNs)\n",
    "def Missing(df):\n",
    "    try:\n",
    "        assert df.notnull().all().all()\n",
    "        print(\"Good news! There are no missing values.\")\n",
    "    \n",
    "    except AssertionError:\n",
    "        print(\"Count of missing values:\")\n",
    "        print(df.isna().sum())\n",
    "        print(\"\\nPercentage of missing values:\")\n",
    "        print(df.isna().mean().round(4)*100, \"\\n\")\n",
    "\n"
   ]
  },
  {
   "cell_type": "markdown",
   "id": "fc04f78f-0723-4175-9843-38923c18f1a5",
   "metadata": {},
   "source": [
    "## START OF ANALYSIS: LOAD DATA & CLEAN THE VARIABLES"
   ]
  },
  {
   "cell_type": "code",
   "execution_count": 3,
   "id": "d2755daf-c5ae-4611-bd2e-39f45a0e54dd",
   "metadata": {},
   "outputs": [],
   "source": [
    "# Load the data (CSV file)\n",
    "df = pd.read_csv(\"Data/immoweb-dataset.csv\")"
   ]
  },
  {
   "cell_type": "code",
   "execution_count": 4,
   "id": "4ea3885c",
   "metadata": {},
   "outputs": [],
   "source": [
    "# Ensure no leading/trailing spaces in the column names\n",
    "df.columns = [col.strip() for col in df.columns]"
   ]
  },
  {
   "cell_type": "code",
   "execution_count": 5,
   "id": "ebc56592-96d9-4026-9111-382c42887949",
   "metadata": {},
   "outputs": [
    {
     "name": "stdout",
     "output_type": "stream",
     "text": [
      "Looking at the shape to see the number of records: (80368, 53)\n",
      "\n",
      "Description of the file to check values range:\n",
      "                            count        mean        std        min         25%         50%         75%         max\n",
      "Unnamed: 0               80368.00   209681.71  105460.84       0.00   181965.75   235124.50   257006.25   446550.00\n",
      "id                       80368.00 19529221.31 2897688.01 1882546.00 20350553.25 20529847.50 20614940.75 20664387.00\n",
      "bedroomCount             73558.00        3.01       1.83       1.00        2.00        3.00        4.00      100.00\n",
      "bathroomCount            66672.00        1.43       4.56       1.00        1.00        1.00        2.00     1146.00\n",
      "postCode                 80368.00     5266.59    3045.70    1000.00     2330.00     4830.00     8420.00     9992.00\n",
      "habitableSurface         67783.00      178.50     820.88       6.00       93.00      140.00      200.00   185347.00\n",
      "roomCount                21948.00        7.11       5.82       1.00        1.00        6.00       11.00       68.00\n",
      "monthlyCost                  0.00         NaN        NaN        NaN         NaN         NaN         NaN         NaN\n",
      "diningRoomSurface         6901.00       21.12      43.54       1.00       14.00       18.00       24.00     2470.00\n",
      "buildingConstructionYear 49106.00     1978.02      41.60    1753.00     1957.00     1980.00     2017.00     2055.00\n",
      "facedeCount              53239.00        2.83       0.94       1.00        2.00        3.00        4.00       86.00\n",
      "floorCount               37546.00        3.97     114.40       1.00        2.00        3.00        4.00    21963.00\n",
      "streetFacadeWidth        15510.00       16.55     110.03       1.00        6.00        8.00       12.00     8700.00\n",
      "kitchenSurface           24263.00       15.19     109.09       1.00        9.00       12.00       16.00    16202.00\n",
      "landSurface              39541.00     1289.41    5657.08       1.00      218.00      461.00      963.00   580608.00\n",
      "livingRoomSurface        28950.00       37.13     209.68       1.00       25.00       32.00       40.00    34418.00\n",
      "hasBalcony                   0.00         NaN        NaN        NaN         NaN         NaN         NaN         NaN\n",
      "gardenSurface            15958.00      696.32    6308.72       1.00       55.00      171.00      518.00   734674.00\n",
      "parkingCountIndoor       28239.00        6.68     430.01       1.00        1.00        1.00        1.00    50000.00\n",
      "parkingCountOutdoor      18326.00        8.28     746.15       1.00        1.00        2.00        3.00   101010.00\n",
      "toiletCount              55094.00        1.81       8.41       1.00        1.00        2.00        2.00     1958.00\n",
      "terraceSurface           28599.00       24.51      43.24       1.00        8.00       15.00       29.00     2921.00\n",
      "accessibleDisabledPeople     0.00         NaN        NaN        NaN         NaN         NaN         NaN         NaN\n",
      "price                    76370.00   447606.06  511575.74    3141.00   230000.00   329900.00   479000.00 15000000.00\n",
      "\n",
      "Attributes and respective data types:\n",
      "<class 'pandas.core.frame.DataFrame'>\n",
      "RangeIndex: 80368 entries, 0 to 80367\n",
      "Data columns (total 53 columns):\n",
      " #   Column                    Non-Null Count  Dtype  \n",
      "---  ------                    --------------  -----  \n",
      " 0   Unnamed: 0                80368 non-null  int64  \n",
      " 1   id                        80368 non-null  float64\n",
      " 2   url                       80368 non-null  object \n",
      " 3   type                      80368 non-null  object \n",
      " 4   subtype                   80368 non-null  object \n",
      " 5   bedroomCount              73558 non-null  float64\n",
      " 6   bathroomCount             66672 non-null  float64\n",
      " 7   province                  80368 non-null  object \n",
      " 8   locality                  80368 non-null  object \n",
      " 9   postCode                  80368 non-null  int64  \n",
      " 10  habitableSurface          67783 non-null  float64\n",
      " 11  roomCount                 21948 non-null  float64\n",
      " 12  monthlyCost               0 non-null      float64\n",
      " 13  hasAttic                  12516 non-null  object \n",
      " 14  hasBasement               29315 non-null  object \n",
      " 15  hasDressingRoom           2628 non-null   object \n",
      " 16  diningRoomSurface         6901 non-null   float64\n",
      " 17  hasDiningRoom             14141 non-null  object \n",
      " 18  buildingCondition         57992 non-null  object \n",
      " 19  buildingConstructionYear  49106 non-null  float64\n",
      " 20  facedeCount               53239 non-null  float64\n",
      " 21  floorCount                37546 non-null  float64\n",
      " 22  streetFacadeWidth         15510 non-null  float64\n",
      " 23  hasLift                   19044 non-null  object \n",
      " 24  floodZoneType             44466 non-null  object \n",
      " 25  heatingType               47153 non-null  object \n",
      " 26  hasHeatPump               7473 non-null   object \n",
      " 27  hasPhotovoltaicPanels     8048 non-null   object \n",
      " 28  hasThermicPanels          3112 non-null   object \n",
      " 29  kitchenSurface            24263 non-null  float64\n",
      " 30  kitchenType               41916 non-null  object \n",
      " 31  landSurface               39541 non-null  float64\n",
      " 32  hasLivingRoom             42876 non-null  object \n",
      " 33  livingRoomSurface         28950 non-null  float64\n",
      " 34  hasBalcony                0 non-null      float64\n",
      " 35  hasGarden                 15958 non-null  object \n",
      " 36  gardenSurface             15958 non-null  float64\n",
      " 37  gardenOrientation         5601 non-null   object \n",
      " 38  parkingCountIndoor        28239 non-null  float64\n",
      " 39  parkingCountOutdoor       18326 non-null  float64\n",
      " 40  hasAirConditioning        1124 non-null   object \n",
      " 41  hasArmoredDoor            3698 non-null   object \n",
      " 42  hasVisiophone             15991 non-null  object \n",
      " 43  hasOffice                 10387 non-null  object \n",
      " 44  toiletCount               55094 non-null  float64\n",
      " 45  hasSwimmingPool           1816 non-null   object \n",
      " 46  hasFireplace              3044 non-null   object \n",
      " 47  hasTerrace                47429 non-null  object \n",
      " 48  terraceSurface            28599 non-null  float64\n",
      " 49  terraceOrientation        11262 non-null  object \n",
      " 50  accessibleDisabledPeople  0 non-null      float64\n",
      " 51  epcScore                  65391 non-null  object \n",
      " 52  price                     76370 non-null  float64\n",
      "dtypes: float64(22), int64(2), object(29)\n",
      "memory usage: 32.5+ MB\n",
      "None\n"
     ]
    }
   ],
   "source": [
    "# Show information about the data\n",
    "Descriptives(df)"
   ]
  },
  {
   "cell_type": "markdown",
   "id": "73357fe3",
   "metadata": {},
   "source": [
    "### TARGET VARIABLE: PRICE"
   ]
  },
  {
   "cell_type": "code",
   "execution_count": 6,
   "id": "87fe79cf",
   "metadata": {},
   "outputs": [
    {
     "name": "stdout",
     "output_type": "stream",
     "text": [
      "Count of missing values:\n",
      "3998\n",
      "\n",
      "Percentage of missing values:\n",
      "4.97 \n",
      "\n"
     ]
    }
   ],
   "source": [
    "# Check the missing values in price\n",
    "Missing(df['price'])"
   ]
  },
  {
   "cell_type": "code",
   "execution_count": 7,
   "id": "551d0806",
   "metadata": {},
   "outputs": [],
   "source": [
    "# Price is the target variable, we cannot input a value for the missing values\n",
    "# as we cannot check the reliability of the ML model againt an inputted value: model would be biased\n",
    "df = df.dropna(subset=['price'])"
   ]
  },
  {
   "cell_type": "markdown",
   "id": "a6930a48-f7fb-49f5-b9eb-ac3eac7c8b8e",
   "metadata": {},
   "source": [
    "### MISSING VALUES OVERALL"
   ]
  },
  {
   "cell_type": "code",
   "execution_count": 8,
   "id": "97180a52",
   "metadata": {},
   "outputs": [
    {
     "name": "stdout",
     "output_type": "stream",
     "text": [
      "Count of missing values:\n",
      "Unnamed: 0                      0\n",
      "id                              0\n",
      "url                             0\n",
      "type                            0\n",
      "subtype                         0\n",
      "bedroomCount                 2820\n",
      "bathroomCount                9705\n",
      "province                        0\n",
      "locality                        0\n",
      "postCode                        0\n",
      "habitableSurface             8590\n",
      "roomCount                   54423\n",
      "monthlyCost                 76370\n",
      "hasAttic                    63856\n",
      "hasBasement                 47057\n",
      "hasDressingRoom             73742\n",
      "diningRoomSurface           69471\n",
      "hasDiningRoom               62231\n",
      "buildingCondition           18381\n",
      "buildingConstructionYear    27268\n",
      "facedeCount                 23136\n",
      "floorCount                  38827\n",
      "streetFacadeWidth           60860\n",
      "hasLift                     57327\n",
      "floodZoneType               33466\n",
      "heatingType                 29220\n",
      "hasHeatPump                 68897\n",
      "hasPhotovoltaicPanels       68322\n",
      "hasThermicPanels            73258\n",
      "kitchenSurface              52109\n",
      "kitchenType                 34458\n",
      "landSurface                 36833\n",
      "hasLivingRoom               33500\n",
      "livingRoomSurface           47423\n",
      "hasBalcony                  76370\n",
      "hasGarden                   60413\n",
      "gardenSurface               60413\n",
      "gardenOrientation           70769\n",
      "parkingCountIndoor          48567\n",
      "parkingCountOutdoor         58275\n",
      "hasAirConditioning          75246\n",
      "hasArmoredDoor              72672\n",
      "hasVisiophone               60379\n",
      "hasOffice                   65985\n",
      "toiletCount                 21280\n",
      "hasSwimmingPool             74554\n",
      "hasFireplace                73326\n",
      "hasTerrace                  28943\n",
      "terraceSurface              47772\n",
      "terraceOrientation          65108\n",
      "accessibleDisabledPeople    76370\n",
      "epcScore                    11966\n",
      "price                           0\n",
      "dtype: int64\n",
      "\n",
      "Percentage of missing values:\n",
      "Unnamed: 0                   0.00\n",
      "id                           0.00\n",
      "url                          0.00\n",
      "type                         0.00\n",
      "subtype                      0.00\n",
      "bedroomCount                 3.69\n",
      "bathroomCount               12.71\n",
      "province                     0.00\n",
      "locality                     0.00\n",
      "postCode                     0.00\n",
      "habitableSurface            11.25\n",
      "roomCount                   71.26\n",
      "monthlyCost                100.00\n",
      "hasAttic                    83.61\n",
      "hasBasement                 61.62\n",
      "hasDressingRoom             96.56\n",
      "diningRoomSurface           90.97\n",
      "hasDiningRoom               81.49\n",
      "buildingCondition           24.07\n",
      "buildingConstructionYear    35.71\n",
      "facedeCount                 30.29\n",
      "floorCount                  50.84\n",
      "streetFacadeWidth           79.69\n",
      "hasLift                     75.06\n",
      "floodZoneType               43.82\n",
      "heatingType                 38.26\n",
      "hasHeatPump                 90.21\n",
      "hasPhotovoltaicPanels       89.46\n",
      "hasThermicPanels            95.93\n",
      "kitchenSurface              68.23\n",
      "kitchenType                 45.12\n",
      "landSurface                 48.23\n",
      "hasLivingRoom               43.87\n",
      "livingRoomSurface           62.10\n",
      "hasBalcony                 100.00\n",
      "hasGarden                   79.11\n",
      "gardenSurface               79.11\n",
      "gardenOrientation           92.67\n",
      "parkingCountIndoor          63.59\n",
      "parkingCountOutdoor         76.31\n",
      "hasAirConditioning          98.53\n",
      "hasArmoredDoor              95.16\n",
      "hasVisiophone               79.06\n",
      "hasOffice                   86.40\n",
      "toiletCount                 27.86\n",
      "hasSwimmingPool             97.62\n",
      "hasFireplace                96.01\n",
      "hasTerrace                  37.90\n",
      "terraceSurface              62.55\n",
      "terraceOrientation          85.25\n",
      "accessibleDisabledPeople   100.00\n",
      "epcScore                    15.67\n",
      "price                        0.00\n",
      "dtype: float64 \n",
      "\n"
     ]
    }
   ],
   "source": [
    "Missing(df)"
   ]
  },
  {
   "cell_type": "code",
   "execution_count": 9,
   "id": "d1a48f5c",
   "metadata": {},
   "outputs": [
    {
     "data": {
      "text/plain": [
       "['monthlyCost', 'hasBalcony', 'accessibleDisabledPeople']"
      ]
     },
     "execution_count": 9,
     "metadata": {},
     "output_type": "execute_result"
    }
   ],
   "source": [
    "# We see there are variables with 100% missing values, so nothing to do with them: DROP\n",
    "# Start in list with all variables to drop\n",
    "dropVar = []\n",
    "dropVar = df.columns[df.isna().sum() == len(df)].tolist()\n",
    "dropVar"
   ]
  },
  {
   "cell_type": "markdown",
   "id": "c237e077-ecb6-4726-be13-5d847a033362",
   "metadata": {},
   "source": [
    "### UNNAMED"
   ]
  },
  {
   "cell_type": "code",
   "execution_count": 10,
   "id": "b8b34351-d499-4583-bbc9-30d6bf419c7e",
   "metadata": {},
   "outputs": [
    {
     "data": {
      "text/plain": [
       "['monthlyCost', 'hasBalcony', 'accessibleDisabledPeople', 'Unnamed: 0']"
      ]
     },
     "execution_count": 10,
     "metadata": {},
     "output_type": "execute_result"
    }
   ],
   "source": [
    "# This is an index variable, as presumabily the data comes from a dataframe that was saved as CSV keeping the index column\n",
    "dropVar += ['Unnamed: 0']\n",
    "dropVar"
   ]
  },
  {
   "cell_type": "markdown",
   "id": "47104749-489a-4c3c-b42f-a9bf6e143486",
   "metadata": {},
   "source": [
    "### ID & URL"
   ]
  },
  {
   "cell_type": "code",
   "execution_count": 11,
   "id": "f68b8739-ded4-48dd-992a-85ea61df2e19",
   "metadata": {},
   "outputs": [
    {
     "data": {
      "text/plain": [
       "0"
      ]
     },
     "execution_count": 11,
     "metadata": {},
     "output_type": "execute_result"
    }
   ],
   "source": [
    "# These variables have no value for predicting price: they can be dropped\n",
    "# But, first checking if there are duplicated records\n",
    "df.duplicated(subset=['id','url'], keep=False).sum()"
   ]
  },
  {
   "cell_type": "code",
   "execution_count": 12,
   "id": "c0fc6193-1536-4090-af65-30af1d8f7a9a",
   "metadata": {},
   "outputs": [
    {
     "data": {
      "text/plain": [
       "['monthlyCost',\n",
       " 'hasBalcony',\n",
       " 'accessibleDisabledPeople',\n",
       " 'Unnamed: 0',\n",
       " 'id',\n",
       " 'url']"
      ]
     },
     "execution_count": 12,
     "metadata": {},
     "output_type": "execute_result"
    }
   ],
   "source": [
    "dropVar += ['id', 'url']\n",
    "dropVar\n"
   ]
  },
  {
   "cell_type": "markdown",
   "id": "ceb42a2a-2b59-477a-8fb8-6767c5815c6e",
   "metadata": {},
   "source": [
    "### TYPE & SUBTYPE"
   ]
  },
  {
   "cell_type": "code",
   "execution_count": 13,
   "id": "75dd9309-7495-4bff-ba48-1540a637f256",
   "metadata": {},
   "outputs": [
    {
     "data": {
      "text/plain": [
       "type\n",
       "HOUSE        45228\n",
       "APARTMENT    31142\n",
       "Name: count, dtype: int64"
      ]
     },
     "execution_count": 13,
     "metadata": {},
     "output_type": "execute_result"
    }
   ],
   "source": [
    "# Checking the different values in type\n",
    "df.type.value_counts()"
   ]
  },
  {
   "cell_type": "code",
   "execution_count": 14,
   "id": "582c41a4-b46b-4e22-81bb-5ddef237b412",
   "metadata": {},
   "outputs": [
    {
     "data": {
      "text/plain": [
       "type       subtype             \n",
       "APARTMENT  APARTMENT               23844\n",
       "           DUPLEX                   1691\n",
       "           FLAT_STUDIO              1381\n",
       "           GROUND_FLOOR             1771\n",
       "           KOT                       331\n",
       "           LOFT                      259\n",
       "           PENTHOUSE                1265\n",
       "           SERVICE_FLAT              449\n",
       "           TRIPLEX                   151\n",
       "HOUSE      APARTMENT_BLOCK          2454\n",
       "           BUNGALOW                  427\n",
       "           CASTLE                     68\n",
       "           CHALET                    166\n",
       "           COUNTRY_COTTAGE           309\n",
       "           EXCEPTIONAL_PROPERTY      813\n",
       "           FARMHOUSE                 289\n",
       "           HOUSE                   33971\n",
       "           MANOR_HOUSE                46\n",
       "           MANSION                   544\n",
       "           MIXED_USE_BUILDING       1840\n",
       "           OTHER_PROPERTY             54\n",
       "           PAVILION                    1\n",
       "           TOWN_HOUSE                477\n",
       "           VILLA                    3769\n",
       "Name: count, dtype: int64"
      ]
     },
     "execution_count": 14,
     "metadata": {},
     "output_type": "execute_result"
    }
   ],
   "source": [
    "ad_types = df[['type', 'subtype']]\n",
    "ad_types.groupby(['type', 'subtype']).value_counts()"
   ]
  },
  {
   "cell_type": "code",
   "execution_count": 15,
   "id": "7911215f-b770-49b0-9bfd-1c84f3381584",
   "metadata": {},
   "outputs": [],
   "source": [
    "# Looks correct\n",
    "# Apply sentence case to remain consistent with the rest of string variables\n",
    "df[['type', 'subtype']] = df[['type', 'subtype']].apply(lambda col: col.str.strip().str.capitalize())"
   ]
  },
  {
   "cell_type": "code",
   "execution_count": 16,
   "id": "0205b27c-3063-4888-97b4-42e2bdc55259",
   "metadata": {},
   "outputs": [
    {
     "name": "stdout",
     "output_type": "stream",
     "text": [
      "Good news! There are no missing values.\n"
     ]
    }
   ],
   "source": [
    "Missing(df[['type', 'subtype']])"
   ]
  },
  {
   "cell_type": "markdown",
   "id": "76748dfc-592d-4b75-b1a3-65a2835723a3",
   "metadata": {},
   "source": [
    "The variable subtype shows many different values (high cardinality)\n",
    "When developping ML model, we should consider grouping to reduce cardinality"
   ]
  },
  {
   "cell_type": "raw",
   "id": "33204f06-5284-4206-874a-ac64ce178a95",
   "metadata": {},
   "source": [
    "# Reassigning values\n",
    "mapping = {\n",
    "# HOUSE SUBTYPES    \n",
    "    \"HOUSE\": \"House\",\n",
    "    \"VILLA\": \"House\",\n",
    "    \"TOWN_HOUSE\": \"House\",\n",
    "    \"BUNGALOW\": \"House\",\n",
    "    \"PAVILION\": \"House\",\n",
    "    \"COUNTRY_COTTAGE\": \"Rural\",\n",
    "    \"FARMHOUSE\": \"Rural\",\n",
    "    \"CHALET\": \"Rural\",\n",
    "    \"MANOR_HOUSE\": \"Rural\",\n",
    "    \"APARTMENT_BLOCK\": \"Apartment\",\n",
    "    \"MIXED_USE_BUILDING\": \"Mixed_Use\",\n",
    "    \"EXCEPTIONAL_PROPERTY\": \"Luxury\",\n",
    "    \"MANSION\": \"Luxury\",\n",
    "    \"CASTLE\": \"Luxury\",\n",
    "    \"OTHER_PROPERTY\": \"Other\",\n",
    "# APARTMENT SUBTYPE\n",
    "    \"APARTMENT\": \"Standard\",\n",
    "    \"GROUND_FLOOR\": \"Standard\",\n",
    "    \"FLAT_STUDIO\": \"Small_Unit\",\n",
    "    \"SERVICE_FLAT\": \"Standard\",\n",
    "    \"KOT\": \"Small_Unit\",\n",
    "    \"PENTHOUSE\": \"Luxury\",\n",
    "    \"LOFT\": \"Luxury\",\n",
    "    \"DUPLEX\": \"Multi-level\",\n",
    "    \"TRIPLEX\": \"Multi-level\"\n",
    "}\n",
    "\n",
    "\n",
    "# Apply the new categories\n",
    "df['new_subtype'] = df['subtype'].map(mapping)"
   ]
  },
  {
   "cell_type": "markdown",
   "id": "ae3b9d13-695e-4f91-9df9-7c317be06e5d",
   "metadata": {},
   "source": [
    "### GEO VARIABLES: PROVINCE, LOCALITY, POSTCODE & REGION"
   ]
  },
  {
   "cell_type": "code",
   "execution_count": 17,
   "id": "8fa7f820",
   "metadata": {},
   "outputs": [],
   "source": [
    "# Create a function to assign Regions to the locality\n",
    "def map_region(row):\n",
    "    loc = str(row[\"locality\"]).strip()\n",
    "    prov = row[\"province\"]\n",
    "    if loc in german_towns:\n",
    "        return \"German-speaking Community\"\n",
    "    if prov == \"Brussels\":\n",
    "        return \"Brussels\"\n",
    "    if prov in flemish:\n",
    "        return \"Flanders\"\n",
    "    if prov in walloon:\n",
    "        return \"Wallonia\"\n",
    "    return \"Unknown\""
   ]
  },
  {
   "cell_type": "code",
   "execution_count": 18,
   "id": "539e9b1e-554e-4212-81ed-047eade6cfa7",
   "metadata": {},
   "outputs": [],
   "source": [
    "# Add Region column\n",
    "flemish = [\"Antwerp\", \"Limburg\", \"East Flanders\", \"Flemish Brabant\", \"West Flanders\"]\n",
    "walloon = [\"Hainaut\", \"Liège\", \"Luxembourg\", \"Namur\", \"Walloon Brabant\"]\n",
    "german_towns = [\n",
    "        \"Eupen\", \"Kelmis\", \"Raeren\", \"Lontzen\", \"Bütgenbach\",\n",
    "        \"Büllingen\", \"Amel\", \"Burg-Reuland\", \"St. Vith\"\n",
    "    ]\n",
    "\n",
    "df[\"region\"] = df.apply(map_region, axis=1)"
   ]
  },
  {
   "cell_type": "code",
   "execution_count": 19,
   "id": "c3457f6b-9b1d-48e4-b9ed-3433e49a7b14",
   "metadata": {},
   "outputs": [
    {
     "data": {
      "text/plain": [
       "region\n",
       "Flanders                     46362\n",
       "Wallonia                     21761\n",
       "Brussels                      8124\n",
       "German-speaking Community      123\n",
       "Name: count, dtype: int64"
      ]
     },
     "execution_count": 19,
     "metadata": {},
     "output_type": "execute_result"
    }
   ],
   "source": [
    "df.region.value_counts()"
   ]
  },
  {
   "cell_type": "code",
   "execution_count": 20,
   "id": "d9f38583-2646-4e5e-a292-4b7a50372ab7",
   "metadata": {},
   "outputs": [
    {
     "data": {
      "text/plain": [
       "postCode\n",
       "8300    2169\n",
       "8400    1219\n",
       "9000    1027\n",
       "1180     926\n",
       "1000     866\n",
       "        ... \n",
       "6986       1\n",
       "3732       1\n",
       "3742       1\n",
       "3792       1\n",
       "7521       1\n",
       "Name: count, Length: 1098, dtype: int64"
      ]
     },
     "execution_count": 20,
     "metadata": {},
     "output_type": "execute_result"
    }
   ],
   "source": [
    "df.postCode.value_counts()"
   ]
  },
  {
   "cell_type": "code",
   "execution_count": 21,
   "id": "7762f5fe-fba2-4c53-8d43-6805b5bba8ae",
   "metadata": {},
   "outputs": [],
   "source": [
    "# Move \"Region\" column to left of \"province\"\n",
    "region_series = df.pop(\"region\")\n",
    "province_idx = df.columns.get_loc(\"province\")\n",
    "df.insert(province_idx, \"region\", region_series)\n",
    "\n",
    "# Strip whitespace in locality, region, province, postCode\n",
    "df[[\"locality\", \"region\", \"province\", \"postCode\"]] = df[[\"locality\", \"region\", \"province\", \"postCode\"]].astype(str).apply(lambda x: x.str.strip())"
   ]
  },
  {
   "cell_type": "code",
   "execution_count": 22,
   "id": "fc6d529d-76ba-4d20-9017-652f00857686",
   "metadata": {},
   "outputs": [
    {
     "name": "stdout",
     "output_type": "stream",
     "text": [
      "Good news! There are no missing values.\n"
     ]
    }
   ],
   "source": [
    "Missing(df[[\"locality\", \"region\", \"province\", \"postCode\"]])"
   ]
  },
  {
   "cell_type": "code",
   "execution_count": 23,
   "id": "e15fb492",
   "metadata": {},
   "outputs": [
    {
     "data": {
      "text/plain": [
       "['monthlyCost',\n",
       " 'hasBalcony',\n",
       " 'accessibleDisabledPeople',\n",
       " 'Unnamed: 0',\n",
       " 'id',\n",
       " 'url',\n",
       " 'locality']"
      ]
     },
     "execution_count": 23,
     "metadata": {},
     "output_type": "execute_result"
    }
   ],
   "source": [
    "# Discard locality as it is the same as postCode\n",
    "dropVar += [\"locality\"]\n",
    "dropVar"
   ]
  },
  {
   "cell_type": "markdown",
   "id": "e40deb27-b2d3-42c5-9261-98879cf6370f",
   "metadata": {},
   "source": [
    "### ROOMS COUNT"
   ]
  },
  {
   "cell_type": "markdown",
   "id": "17e83699-320f-4ce6-a02e-9dc94010096a",
   "metadata": {},
   "source": [
    "#### BEDROOMCOUNT & ROOMCOUNT"
   ]
  },
  {
   "cell_type": "code",
   "execution_count": 24,
   "id": "f24de6a7-4c91-4e8c-981f-4f903369df66",
   "metadata": {},
   "outputs": [
    {
     "name": "stdout",
     "output_type": "stream",
     "text": [
      "Count of missing values:\n",
      "bedroomCount     2820\n",
      "roomCount       54423\n",
      "dtype: int64\n",
      "\n",
      "Percentage of missing values:\n",
      "bedroomCount    3.69\n",
      "roomCount      71.26\n",
      "dtype: float64 \n",
      "\n"
     ]
    }
   ],
   "source": [
    "# These variables are very similar (advertisers often do not distinguish between bedroom and room)\n",
    "# and roomCount present high number of missing values\n",
    "Missing(df[['bedroomCount', 'roomCount']])"
   ]
  },
  {
   "cell_type": "code",
   "execution_count": 25,
   "id": "ab5e3723-d1a5-4b0d-bfa9-43b2faf2d2de",
   "metadata": {},
   "outputs": [],
   "source": [
    "# for records with missing bedroomCount, take roomCount if exists\n",
    "df['bedroomCount'] = df['bedroomCount'].fillna(df['roomCount'])"
   ]
  },
  {
   "cell_type": "code",
   "execution_count": 26,
   "id": "dd1d020f-b454-4b21-8131-350994b09ab1",
   "metadata": {},
   "outputs": [],
   "source": [
    "# Nan remaining filled with No info\n",
    "df['bedroomCount'] = df['bedroomCount'].fillna('No info')"
   ]
  },
  {
   "cell_type": "code",
   "execution_count": 27,
   "id": "06490cb1-49fe-49bc-b52c-88a2f8ef60ef",
   "metadata": {},
   "outputs": [
    {
     "data": {
      "text/plain": [
       "['monthlyCost',\n",
       " 'hasBalcony',\n",
       " 'accessibleDisabledPeople',\n",
       " 'Unnamed: 0',\n",
       " 'id',\n",
       " 'url',\n",
       " 'locality',\n",
       " 'roomCount']"
      ]
     },
     "execution_count": 27,
     "metadata": {},
     "output_type": "execute_result"
    }
   ],
   "source": [
    "# Then discard roomCount\n",
    "dropVar += ['roomCount']\n",
    "dropVar"
   ]
  },
  {
   "attachments": {},
   "cell_type": "markdown",
   "id": "1f48879c-c6ad-4534-8d25-b0071566ffd9",
   "metadata": {},
   "source": [
    "#### HASDRESSINGROOM, DININGROOMSURFACE & HASDININGROOM\n"
   ]
  },
  {
   "cell_type": "code",
   "execution_count": 28,
   "id": "1f331dc7-ebe3-4cd1-ad64-8c55ec5f4a3b",
   "metadata": {},
   "outputs": [
    {
     "name": "stdout",
     "output_type": "stream",
     "text": [
      "Count of missing values:\n",
      "hasDressingRoom      73742\n",
      "diningRoomSurface    69471\n",
      "hasDiningRoom        62231\n",
      "hasLivingRoom        33500\n",
      "livingRoomSurface    47423\n",
      "dtype: int64\n",
      "\n",
      "Percentage of missing values:\n",
      "hasDressingRoom     96.56\n",
      "diningRoomSurface   90.97\n",
      "hasDiningRoom       81.49\n",
      "hasLivingRoom       43.87\n",
      "livingRoomSurface   62.10\n",
      "dtype: float64 \n",
      "\n"
     ]
    }
   ],
   "source": [
    "Missing(df[['hasDressingRoom', 'diningRoomSurface', 'hasDiningRoom','hasLivingRoom','livingRoomSurface']])"
   ]
  },
  {
   "cell_type": "code",
   "execution_count": 29,
   "id": "bbe5a1be-a302-47e0-89b2-d19e4c1aa3d4",
   "metadata": {},
   "outputs": [
    {
     "data": {
      "text/plain": [
       "['monthlyCost',\n",
       " 'hasBalcony',\n",
       " 'accessibleDisabledPeople',\n",
       " 'Unnamed: 0',\n",
       " 'id',\n",
       " 'url',\n",
       " 'locality',\n",
       " 'roomCount',\n",
       " 'hasDressingRoom',\n",
       " 'diningRoomSurface',\n",
       " 'hasDiningRoom',\n",
       " 'hasLivingRoom',\n",
       " 'livingRoomSurface']"
      ]
     },
     "execution_count": 29,
     "metadata": {},
     "output_type": "execute_result"
    }
   ],
   "source": [
    "# Discard the variables\n",
    "dropVar += ['hasDressingRoom', 'diningRoomSurface', 'hasDiningRoom','hasLivingRoom','livingRoomSurface']\n",
    "dropVar"
   ]
  },
  {
   "cell_type": "markdown",
   "id": "9abb6f32",
   "metadata": {},
   "source": [
    "#### HASOFFICE"
   ]
  },
  {
   "cell_type": "code",
   "execution_count": 30,
   "id": "dac52ee0",
   "metadata": {},
   "outputs": [
    {
     "name": "stdout",
     "output_type": "stream",
     "text": [
      "Count of missing values:\n",
      "65985\n",
      "\n",
      "Percentage of missing values:\n",
      "86.4 \n",
      "\n"
     ]
    }
   ],
   "source": [
    "# hasoffice may be a nice\n",
    "# but how to differenciate with nuumber of rooms and bedrooms?\n",
    "# Is it counted twice?\n",
    "# also shows many missing values\n",
    "Missing(df['hasOffice'])"
   ]
  },
  {
   "cell_type": "code",
   "execution_count": 31,
   "id": "a0625a52",
   "metadata": {},
   "outputs": [
    {
     "data": {
      "text/plain": [
       "['monthlyCost',\n",
       " 'hasBalcony',\n",
       " 'accessibleDisabledPeople',\n",
       " 'Unnamed: 0',\n",
       " 'id',\n",
       " 'url',\n",
       " 'locality',\n",
       " 'roomCount',\n",
       " 'hasDressingRoom',\n",
       " 'diningRoomSurface',\n",
       " 'hasDiningRoom',\n",
       " 'hasLivingRoom',\n",
       " 'livingRoomSurface',\n",
       " 'hasOffice']"
      ]
     },
     "execution_count": 31,
     "metadata": {},
     "output_type": "execute_result"
    }
   ],
   "source": [
    "# Discard the variables\n",
    "dropVar += ['hasOffice']\n",
    "dropVar"
   ]
  },
  {
   "cell_type": "markdown",
   "id": "2666192f-b39d-4f58-82a8-a16eadd861d8",
   "metadata": {},
   "source": [
    "#### KITCHENSURFACE & KITCHEN TYPE\n"
   ]
  },
  {
   "cell_type": "code",
   "execution_count": 32,
   "id": "be70f577-1def-47e8-9c82-b2c7e2cab21e",
   "metadata": {},
   "outputs": [
    {
     "name": "stdout",
     "output_type": "stream",
     "text": [
      "Count of missing values:\n",
      "kitchenSurface    52109\n",
      "kitchenType       34458\n",
      "dtype: int64\n",
      "\n",
      "Percentage of missing values:\n",
      "kitchenSurface   68.23\n",
      "kitchenType      45.12\n",
      "dtype: float64 \n",
      "\n"
     ]
    }
   ],
   "source": [
    "Missing(df[['kitchenSurface', 'kitchenType']])"
   ]
  },
  {
   "cell_type": "code",
   "execution_count": 33,
   "id": "cfb916ea-ecf0-49a0-b0a0-2dc4cee690be",
   "metadata": {},
   "outputs": [],
   "source": [
    "# kitchenType can be relevant even though it has a large number of Nan\n",
    "# Recode Nan as No info category\n",
    "df['kitchenType'] = df['kitchenType'].fillna('No info')\n"
   ]
  },
  {
   "cell_type": "code",
   "execution_count": 34,
   "id": "1c851595-7723-49ce-a317-0c7d8246c295",
   "metadata": {},
   "outputs": [
    {
     "data": {
      "text/plain": [
       "['monthlyCost',\n",
       " 'hasBalcony',\n",
       " 'accessibleDisabledPeople',\n",
       " 'Unnamed: 0',\n",
       " 'id',\n",
       " 'url',\n",
       " 'locality',\n",
       " 'roomCount',\n",
       " 'hasDressingRoom',\n",
       " 'diningRoomSurface',\n",
       " 'hasDiningRoom',\n",
       " 'hasLivingRoom',\n",
       " 'livingRoomSurface',\n",
       " 'hasOffice',\n",
       " 'kitchenSurface']"
      ]
     },
     "execution_count": 34,
     "metadata": {},
     "output_type": "execute_result"
    }
   ],
   "source": [
    "# Discard the variables\n",
    "dropVar += ['kitchenSurface']\n",
    "dropVar"
   ]
  },
  {
   "cell_type": "markdown",
   "id": "942ec8a5-27d0-4f53-bfb8-09f8d348c9a5",
   "metadata": {},
   "source": [
    "#### BATHROOMCOUNT & TOILETCOUNT"
   ]
  },
  {
   "cell_type": "markdown",
   "id": "3693a8af-94f4-435d-b548-28f4e3a0658e",
   "metadata": {},
   "source": [
    "These variables are very similar\n",
    "and there is no information about separate or not toilet"
   ]
  },
  {
   "cell_type": "code",
   "execution_count": 35,
   "id": "db3c5ccd-9841-4019-b774-e1e5e7c62998",
   "metadata": {},
   "outputs": [
    {
     "name": "stdout",
     "output_type": "stream",
     "text": [
      "Count of missing values:\n",
      "bathroomCount     9705\n",
      "toiletCount      21280\n",
      "dtype: int64\n",
      "\n",
      "Percentage of missing values:\n",
      "bathroomCount   12.71\n",
      "toiletCount     27.86\n",
      "dtype: float64 \n",
      "\n"
     ]
    }
   ],
   "source": [
    "Missing(df[['bathroomCount', 'toiletCount']])"
   ]
  },
  {
   "cell_type": "code",
   "execution_count": 36,
   "id": "7899d65c-5ae7-44d0-ac90-69b22de3c16e",
   "metadata": {},
   "outputs": [],
   "source": [
    "# First we assume that any property that has missing value for bathroomCount and has 1 toiletCount, has 1 bathroom\n",
    "mask = df['bathroomCount'].isna() & (df['toiletCount'] == 1)\n",
    "df.loc[mask, 'bathroomCount'] = 1"
   ]
  },
  {
   "cell_type": "code",
   "execution_count": 37,
   "id": "6ed61e3e-60ee-479c-abfc-770166bbb76d",
   "metadata": {},
   "outputs": [],
   "source": [
    "# For the moment, we keep toiletCount as may be used to fill bathroomCount\n",
    "# Nan remaining as No info\n",
    "df['bathroomCount'] = df['bathroomCount'].fillna('No info')\n",
    "df['toiletCount'] = df['toiletCount'].fillna('No info')"
   ]
  },
  {
   "cell_type": "code",
   "execution_count": 38,
   "id": "1343c89b-9657-455a-a118-1b76dbc418c1",
   "metadata": {},
   "outputs": [
    {
     "name": "stdout",
     "output_type": "stream",
     "text": [
      "Good news! There are no missing values.\n"
     ]
    }
   ],
   "source": [
    "Missing(df[['bathroomCount', 'toiletCount']])"
   ]
  },
  {
   "attachments": {},
   "cell_type": "markdown",
   "id": "ebf17a4f",
   "metadata": {},
   "source": [
    "### PARKINGCOUNTINDOOR & PARKINGCOUNTOUTDOOR\n"
   ]
  },
  {
   "cell_type": "code",
   "execution_count": 39,
   "id": "8c2e4730",
   "metadata": {},
   "outputs": [
    {
     "name": "stdout",
     "output_type": "stream",
     "text": [
      "Count of missing values:\n",
      "parkingCountIndoor     48567\n",
      "parkingCountOutdoor    58275\n",
      "dtype: int64\n",
      "\n",
      "Percentage of missing values:\n",
      "parkingCountIndoor    63.59\n",
      "parkingCountOutdoor   76.31\n",
      "dtype: float64 \n",
      "\n"
     ]
    }
   ],
   "source": [
    "Missing(df[['parkingCountIndoor', 'parkingCountOutdoor']])"
   ]
  },
  {
   "cell_type": "code",
   "execution_count": 40,
   "id": "54d7ea04",
   "metadata": {},
   "outputs": [],
   "source": [
    "# Parking is a valuable asset, if seller dont specify then we assume there is no parking\n",
    "df['parkingCountIndoor'] = df['parkingCountIndoor'].fillna(0)\n",
    "df['parkingCountOutdoor'] = df['parkingCountOutdoor'].fillna(0)"
   ]
  },
  {
   "cell_type": "code",
   "execution_count": 41,
   "id": "46b75ce6-4b3d-4e0a-851b-b8fe4c69a5cf",
   "metadata": {},
   "outputs": [
    {
     "name": "stdout",
     "output_type": "stream",
     "text": [
      "Good news! There are no missing values.\n"
     ]
    }
   ],
   "source": [
    "Missing(df[['parkingCountIndoor', 'parkingCountOutdoor']])"
   ]
  },
  {
   "attachments": {},
   "cell_type": "markdown",
   "id": "f266d4e8",
   "metadata": {},
   "source": [
    "### HASGARDEN, GARDENSURFACE, GARDENORIENTATION & HASTERRACE, TERRACESURFACE, TERRACEORIENTATIONn\n"
   ]
  },
  {
   "cell_type": "code",
   "execution_count": 42,
   "id": "7a31af8d-1336-4262-8621-64fe4e4d99de",
   "metadata": {},
   "outputs": [
    {
     "name": "stdout",
     "output_type": "stream",
     "text": [
      "Count of missing values:\n",
      "hasGarden             60413\n",
      "gardenSurface         60413\n",
      "gardenOrientation     70769\n",
      "hasTerrace            28943\n",
      "terraceSurface        47772\n",
      "terraceOrientation    65108\n",
      "dtype: int64\n",
      "\n",
      "Percentage of missing values:\n",
      "hasGarden            79.11\n",
      "gardenSurface        79.11\n",
      "gardenOrientation    92.67\n",
      "hasTerrace           37.90\n",
      "terraceSurface       62.55\n",
      "terraceOrientation   85.25\n",
      "dtype: float64 \n",
      "\n"
     ]
    }
   ],
   "source": [
    "Missing(df[['hasGarden', 'gardenSurface', 'gardenOrientation', 'hasTerrace', 'terraceSurface', 'terraceOrientation']])"
   ]
  },
  {
   "cell_type": "code",
   "execution_count": 43,
   "id": "e10f9436",
   "metadata": {},
   "outputs": [
    {
     "name": "stdout",
     "output_type": "stream",
     "text": [
      "hasGarden\n",
      "True    15957\n",
      "Name: count, dtype: int64\n",
      "hasTerrace\n",
      "True    47427\n",
      "Name: count, dtype: int64\n"
     ]
    }
   ],
   "source": [
    "print(df['hasGarden'].value_counts())\n",
    "print(df['hasTerrace'].value_counts())"
   ]
  },
  {
   "cell_type": "code",
   "execution_count": 44,
   "id": "c3cd27bf",
   "metadata": {},
   "outputs": [],
   "source": [
    "# Recode to 1 (has) and O (don't)\n",
    "df['hasGarden'] = df['hasGarden'].apply(lambda x: 1 if x == True else 0)\n",
    "df['hasTerrace'] = df['hasTerrace'].apply(lambda x: 1 if x == True else 0)"
   ]
  },
  {
   "cell_type": "code",
   "execution_count": 45,
   "id": "b0a5538a",
   "metadata": {},
   "outputs": [],
   "source": [
    "# If no garden / no terrace then surface is 0\n",
    "df.loc[df['hasGarden'] == 0, 'gardenSurface'] = 0\n",
    "df.loc[df['hasTerrace'] == 0, 'terraceSurface'] = 0"
   ]
  },
  {
   "cell_type": "code",
   "execution_count": 46,
   "id": "cd7e2546",
   "metadata": {},
   "outputs": [],
   "source": [
    "# If no garden / no terrace then Orientation is empty\n",
    "df.loc[df['hasGarden'] == 0, 'gardenOrientation'] = \"No garden\"\n",
    "df.loc[df['hasTerrace'] == 0, 'terraceOrientation'] = \"No terrace\"\n",
    "\n"
   ]
  },
  {
   "cell_type": "code",
   "execution_count": 47,
   "id": "8d9a5621",
   "metadata": {},
   "outputs": [],
   "source": [
    "df['gardenSurface'] = df['gardenSurface'].fillna('No info')\n",
    "df['terraceSurface'] = df['terraceSurface'].fillna('No info')\n",
    "df['gardenOrientation'] = df['gardenOrientation'].fillna('No info')\n",
    "df['terraceOrientation'] = df['terraceOrientation'].fillna('No info')"
   ]
  },
  {
   "cell_type": "code",
   "execution_count": 48,
   "id": "95110a92",
   "metadata": {},
   "outputs": [
    {
     "data": {
      "text/plain": [
       "['monthlyCost',\n",
       " 'hasBalcony',\n",
       " 'accessibleDisabledPeople',\n",
       " 'Unnamed: 0',\n",
       " 'id',\n",
       " 'url',\n",
       " 'locality',\n",
       " 'roomCount',\n",
       " 'hasDressingRoom',\n",
       " 'diningRoomSurface',\n",
       " 'hasDiningRoom',\n",
       " 'hasLivingRoom',\n",
       " 'livingRoomSurface',\n",
       " 'hasOffice',\n",
       " 'kitchenSurface',\n",
       " 'gardenSurface',\n",
       " 'gardenOrientation',\n",
       " 'terraceSurface',\n",
       " 'terraceOrientation']"
      ]
     },
     "execution_count": 48,
     "metadata": {},
     "output_type": "execute_result"
    }
   ],
   "source": [
    "# Finally we decide to remove Surface and Orientation as they have lower importance\n",
    "dropVar += ['gardenSurface', 'gardenOrientation', 'terraceSurface', 'terraceOrientation']\n",
    "dropVar"
   ]
  },
  {
   "cell_type": "code",
   "execution_count": 49,
   "id": "05787732",
   "metadata": {},
   "outputs": [
    {
     "data": {
      "text/plain": [
       "('hasGarden',\n",
       " 'gardenSurface',\n",
       " 'gardenOrientation',\n",
       " 'hasTerrace',\n",
       " 'terraceSurface',\n",
       " 'terraceOrientation')"
      ]
     },
     "execution_count": 49,
     "metadata": {},
     "output_type": "execute_result"
    }
   ],
   "source": [
    "'hasGarden', 'gardenSurface', 'gardenOrientation', 'hasTerrace', 'terraceSurface', 'terraceOrientation'"
   ]
  },
  {
   "cell_type": "markdown",
   "id": "b164a146",
   "metadata": {},
   "source": [
    "### HASSWIMMINGPOOL"
   ]
  },
  {
   "cell_type": "code",
   "execution_count": 50,
   "id": "71cf4858",
   "metadata": {},
   "outputs": [
    {
     "data": {
      "text/plain": [
       "hasSwimmingPool\n",
       "True    1816\n",
       "Name: count, dtype: int64"
      ]
     },
     "execution_count": 50,
     "metadata": {},
     "output_type": "execute_result"
    }
   ],
   "source": [
    "df['hasSwimmingPool'].value_counts()"
   ]
  },
  {
   "cell_type": "code",
   "execution_count": 51,
   "id": "7274863f",
   "metadata": {},
   "outputs": [],
   "source": [
    "# hasswimmingpool has many missing values,but in Belgium it is rare to have a swimming pool\n",
    "# we can assume that missing values mean there is no swimming pool\n",
    "# and that having swimming pool correlates with price\n",
    "df['hasSwimmingPool'] = df['hasSwimmingPool'].apply(lambda x: 1 if x == True else 0)"
   ]
  },
  {
   "attachments": {},
   "cell_type": "markdown",
   "id": "d32ae5b8",
   "metadata": {},
   "source": [
    "### HASVISIOPHONE & HASARMOREDDOOR & HASAIRCONDITIONING & HASFIREPLACE\n"
   ]
  },
  {
   "cell_type": "code",
   "execution_count": 52,
   "id": "e795fa1b",
   "metadata": {},
   "outputs": [
    {
     "name": "stdout",
     "output_type": "stream",
     "text": [
      "Count of missing values:\n",
      "hasArmoredDoor        72672\n",
      "hasVisiophone         60379\n",
      "hasAirConditioning    75246\n",
      "hasFireplace          73326\n",
      "dtype: int64\n",
      "\n",
      "Percentage of missing values:\n",
      "hasArmoredDoor       95.16\n",
      "hasVisiophone        79.06\n",
      "hasAirConditioning   98.53\n",
      "hasFireplace         96.01\n",
      "dtype: float64 \n",
      "\n"
     ]
    }
   ],
   "source": [
    "# These may be considered as extras but probably not one that a buyer would consider\n",
    "# and shows many missing values\n",
    "# and a feature that a seller would not care about informing\n",
    "Missing(df[['hasArmoredDoor', 'hasVisiophone', 'hasAirConditioning', 'hasFireplace']])"
   ]
  },
  {
   "cell_type": "code",
   "execution_count": 53,
   "id": "6ca3cf28",
   "metadata": {},
   "outputs": [
    {
     "data": {
      "text/plain": [
       "['monthlyCost',\n",
       " 'hasBalcony',\n",
       " 'accessibleDisabledPeople',\n",
       " 'Unnamed: 0',\n",
       " 'id',\n",
       " 'url',\n",
       " 'locality',\n",
       " 'roomCount',\n",
       " 'hasDressingRoom',\n",
       " 'diningRoomSurface',\n",
       " 'hasDiningRoom',\n",
       " 'hasLivingRoom',\n",
       " 'livingRoomSurface',\n",
       " 'hasOffice',\n",
       " 'kitchenSurface',\n",
       " 'gardenSurface',\n",
       " 'gardenOrientation',\n",
       " 'terraceSurface',\n",
       " 'terraceOrientation',\n",
       " 'hasArmoredDoor',\n",
       " 'hasVisiophone',\n",
       " 'hasAirConditioning',\n",
       " 'hasFireplace']"
      ]
     },
     "execution_count": 53,
     "metadata": {},
     "output_type": "execute_result"
    }
   ],
   "source": [
    "# Discard the variables\n",
    "dropVar += ['hasArmoredDoor', 'hasVisiophone', 'hasAirConditioning', 'hasFireplace']\n",
    "dropVar"
   ]
  },
  {
   "attachments": {},
   "cell_type": "markdown",
   "id": "00368801-4136-41e3-a065-e747b9ae2a2b",
   "metadata": {},
   "source": [
    "### FLOOD ZONE TYPE\n"
   ]
  },
  {
   "cell_type": "code",
   "execution_count": 54,
   "id": "0709d42d-4d18-4776-84cf-41a186ad7ada",
   "metadata": {},
   "outputs": [
    {
     "name": "stdout",
     "output_type": "stream",
     "text": [
      "Count of missing values:\n",
      "33466\n",
      "\n",
      "Percentage of missing values:\n",
      "43.82 \n",
      "\n"
     ]
    }
   ],
   "source": [
    "Missing(df['floodZoneType'])"
   ]
  },
  {
   "cell_type": "code",
   "execution_count": 55,
   "id": "5efb971c-4feb-4b85-a55b-1a13ff05b25c",
   "metadata": {},
   "outputs": [],
   "source": [
    "# Whether the property is in a potential flooding area is relevant\n",
    "# Recode Nan to No info\n",
    "df['floodZoneType'] = df['floodZoneType'].fillna('No info')"
   ]
  },
  {
   "attachments": {},
   "cell_type": "markdown",
   "id": "67b264ab",
   "metadata": {},
   "source": [
    "### HASATTIC & HASBASEMENT\n"
   ]
  },
  {
   "cell_type": "code",
   "execution_count": 56,
   "id": "e90acc4c-7ece-41e3-9cc5-944b5c4c4ceb",
   "metadata": {},
   "outputs": [
    {
     "name": "stdout",
     "output_type": "stream",
     "text": [
      "Count of missing values:\n",
      "hasAttic       63856\n",
      "hasBasement    47057\n",
      "dtype: int64\n",
      "\n",
      "Percentage of missing values:\n",
      "hasAttic      83.61\n",
      "hasBasement   61.62\n",
      "dtype: float64 \n",
      "\n"
     ]
    }
   ],
   "source": [
    "Missing(df[['hasAttic','hasBasement']])"
   ]
  },
  {
   "cell_type": "code",
   "execution_count": 57,
   "id": "ccd42299-78cc-4aa9-912a-b728ad853ad8",
   "metadata": {},
   "outputs": [],
   "source": [
    "# There are many Nan but this is a feature a seller would highlight\n",
    "# Recoding 0/1 and assuming Nan means no attic or basement\n",
    "df['hasAttic'] = df['hasAttic'].apply(lambda x: 1 if x == True else 0)\n",
    "df['hasBasement'] = df['hasBasement'].apply(lambda x: 1 if x == True else 0)"
   ]
  },
  {
   "cell_type": "markdown",
   "id": "5bac6002-6a90-46d5-8ce6-47cf5de087a9",
   "metadata": {},
   "source": [
    "### HASLIFT"
   ]
  },
  {
   "cell_type": "code",
   "execution_count": 58,
   "id": "ebbaca94-4e2f-40b6-9ecd-c303f91e353a",
   "metadata": {},
   "outputs": [
    {
     "name": "stdout",
     "output_type": "stream",
     "text": [
      "Count of missing values:\n",
      "44558\n",
      "\n",
      "Percentage of missing values:\n",
      "98.52 \n",
      "\n"
     ]
    }
   ],
   "source": [
    "Missing(df.loc[df['type'] == 'House', 'hasLift'])"
   ]
  },
  {
   "cell_type": "code",
   "execution_count": 59,
   "id": "369b5561-33bb-4db7-99b4-fa260ebea557",
   "metadata": {},
   "outputs": [],
   "source": [
    "# Most houses dont have a lift\n",
    "df.loc[(df['type'] == 'House') & (df['hasLift'].isna()), 'hasLift'] = 0"
   ]
  },
  {
   "cell_type": "code",
   "execution_count": 60,
   "id": "105ee388-2a05-41e0-b7c6-77433af90bfa",
   "metadata": {},
   "outputs": [
    {
     "name": "stdout",
     "output_type": "stream",
     "text": [
      "Count of missing values:\n",
      "12769\n",
      "\n",
      "Percentage of missing values:\n",
      "41.0 \n",
      "\n"
     ]
    }
   ],
   "source": [
    "Missing(df.loc[df['type'] == 'Apartment', 'hasLift'])"
   ]
  },
  {
   "cell_type": "code",
   "execution_count": 61,
   "id": "0e1d159e-1e03-4497-84ee-546d8df47124",
   "metadata": {},
   "outputs": [],
   "source": [
    "# Apartments often have a lift we can assume that 41% Nan mean No lift, for 59% with lift\n",
    "df.loc[(df['type'] == 'Apartment') & (df['hasLift'].isna()), 'hasLift'] = 0"
   ]
  },
  {
   "cell_type": "markdown",
   "id": "cb86b177-47ca-478b-b368-95248f8bcf70",
   "metadata": {},
   "source": [
    "### HEATING"
   ]
  },
  {
   "cell_type": "code",
   "execution_count": 62,
   "id": "ebcb0933-dbdc-4502-a1e3-de53f243f088",
   "metadata": {},
   "outputs": [
    {
     "name": "stdout",
     "output_type": "stream",
     "text": [
      "Count of missing values:\n",
      "heatingType    29220\n",
      "dtype: int64\n",
      "\n",
      "Percentage of missing values:\n",
      "heatingType   38.26\n",
      "dtype: float64 \n",
      "\n"
     ]
    }
   ],
   "source": [
    "Missing(df[['heatingType']])"
   ]
  },
  {
   "cell_type": "code",
   "execution_count": 63,
   "id": "ed8ebd61-e348-4f93-a923-6a1202687a98",
   "metadata": {},
   "outputs": [
    {
     "name": "stdout",
     "output_type": "stream",
     "text": [
      "Count of missing values:\n",
      "hasHeatPump              68897\n",
      "hasPhotovoltaicPanels    68322\n",
      "hasThermicPanels         73258\n",
      "dtype: int64\n",
      "\n",
      "Percentage of missing values:\n",
      "hasHeatPump             90.21\n",
      "hasPhotovoltaicPanels   89.46\n",
      "hasThermicPanels        95.93\n",
      "dtype: float64 \n",
      "\n"
     ]
    }
   ],
   "source": [
    "Missing(df[['hasHeatPump', 'hasPhotovoltaicPanels', 'hasThermicPanels']])"
   ]
  },
  {
   "cell_type": "code",
   "execution_count": 64,
   "id": "e0ccef91-4517-4175-8d34-6f518ae821ac",
   "metadata": {},
   "outputs": [],
   "source": [
    "# 🛠 Convertir les colonnes en 0/1 (si ce sont des floats)\n",
    "for col in [\"hasHeatPump\", \"hasPhotovoltaicPanels\", \"hasThermicPanels\"]:\n",
    "    df[col] = df[col].fillna(0).astype(int)"
   ]
  },
  {
   "cell_type": "code",
   "execution_count": 65,
   "id": "8753a8c7-d3c3-4cf4-81d2-c19452549e3f",
   "metadata": {},
   "outputs": [],
   "source": [
    "# 🔆 Créer un masque pour les lignes où au moins une source solaire est activée\n",
    "solar_mask = (\n",
    "    (df[\"hasThermicPanels\"] == 1) | (df[\"hasPhotovoltaicPanels\"] == 1)\n",
    ")"
   ]
  },
  {
   "cell_type": "code",
   "execution_count": 66,
   "id": "4dc89331-af88-48c1-86ff-ebd96ea2f0ff",
   "metadata": {},
   "outputs": [
    {
     "name": "stdout",
     "output_type": "stream",
     "text": [
      "✅ 6102 lignes modifiées avec 'SOLAR' dans 'heatingtype'.\n"
     ]
    }
   ],
   "source": [
    "# ✏️ Modifier uniquement les lignes où heatingType est manquant\n",
    "modif_count = df.loc[solar_mask & df[\"heatingType\"].isna(), \"heatingType\"].shape[0]\n",
    "df.loc[solar_mask & df[\"heatingType\"].isna(), \"heatingType\"] = \"SOLAR\"\n",
    "print(f\"✅ {modif_count} lignes modifiées avec 'SOLAR' dans 'heatingtype'.\")"
   ]
  },
  {
   "cell_type": "code",
   "execution_count": 67,
   "id": "992ab960-49b5-4290-a721-3a19d91322e5",
   "metadata": {},
   "outputs": [],
   "source": [
    "# heatingType fill Nan with Heat pump where True\n",
    "df.loc[(df[\"heatingType\"].isna()) & (df[\"hasHeatPump\"] == 1), \"heatingType\"] = \"Heat Pump\""
   ]
  },
  {
   "cell_type": "code",
   "execution_count": 68,
   "id": "243cda8b-3929-4e8f-9c50-f53ac1eebf4b",
   "metadata": {},
   "outputs": [
    {
     "data": {
      "text/plain": [
       "heatingType\n",
       "GAS          33210\n",
       "FUELOIL       8969\n",
       "SOLAR         6166\n",
       "ELECTRIC      4042\n",
       "Heat Pump     2773\n",
       "PELLET         647\n",
       "WOOD           169\n",
       "CARBON          49\n",
       "Name: count, dtype: int64"
      ]
     },
     "execution_count": 68,
     "metadata": {},
     "output_type": "execute_result"
    }
   ],
   "source": [
    "df[\"heatingType\"].value_counts()"
   ]
  },
  {
   "cell_type": "code",
   "execution_count": 69,
   "id": "7a42f865-0490-4fb0-96e1-5dc5ae0d130e",
   "metadata": {},
   "outputs": [],
   "source": [
    "# Recode Nan to No info\n",
    "df['heatingType'] = df['heatingType'].fillna('No info')"
   ]
  },
  {
   "cell_type": "code",
   "execution_count": 70,
   "id": "b27bedf3-6408-4803-bb98-c81b2cc24cba",
   "metadata": {},
   "outputs": [
    {
     "data": {
      "text/plain": [
       "['monthlyCost',\n",
       " 'hasBalcony',\n",
       " 'accessibleDisabledPeople',\n",
       " 'Unnamed: 0',\n",
       " 'id',\n",
       " 'url',\n",
       " 'locality',\n",
       " 'roomCount',\n",
       " 'hasDressingRoom',\n",
       " 'diningRoomSurface',\n",
       " 'hasDiningRoom',\n",
       " 'hasLivingRoom',\n",
       " 'livingRoomSurface',\n",
       " 'hasOffice',\n",
       " 'kitchenSurface',\n",
       " 'gardenSurface',\n",
       " 'gardenOrientation',\n",
       " 'terraceSurface',\n",
       " 'terraceOrientation',\n",
       " 'hasArmoredDoor',\n",
       " 'hasVisiophone',\n",
       " 'hasAirConditioning',\n",
       " 'hasFireplace',\n",
       " 'hasHeatPump',\n",
       " 'hasPhotovoltaicPanels',\n",
       " 'hasThermicPanels']"
      ]
     },
     "execution_count": 70,
     "metadata": {},
     "output_type": "execute_result"
    }
   ],
   "source": [
    "# Drop variables used to fill heatingType\n",
    "dropVar += [\"hasHeatPump\", \"hasPhotovoltaicPanels\", \"hasThermicPanels\"]\n",
    "dropVar"
   ]
  },
  {
   "cell_type": "markdown",
   "id": "3477580a-1a2f-464e-8233-eee0fbd46336",
   "metadata": {},
   "source": [
    "### BUILDINGCONDITION & BUILDINGCONSTRUCTIONYEAR\n",
    "\n"
   ]
  },
  {
   "cell_type": "code",
   "execution_count": 71,
   "id": "de46be09-ca40-4074-be99-7dedd7d6aa2a",
   "metadata": {},
   "outputs": [
    {
     "name": "stdout",
     "output_type": "stream",
     "text": [
      "Count of missing values:\n",
      "buildingCondition           18381\n",
      "buildingConstructionYear    27268\n",
      "dtype: int64\n",
      "\n",
      "Percentage of missing values:\n",
      "buildingCondition          24.07\n",
      "buildingConstructionYear   35.71\n",
      "dtype: float64 \n",
      "\n"
     ]
    }
   ],
   "source": [
    "Missing(df[['buildingCondition', 'buildingConstructionYear']])"
   ]
  },
  {
   "cell_type": "code",
   "execution_count": 72,
   "id": "621cce8c-e045-4b1e-89f3-8d1af2bdfca2",
   "metadata": {},
   "outputs": [],
   "source": [
    "df['buildingCondition'] = df['buildingCondition'].fillna('No info')"
   ]
  },
  {
   "cell_type": "code",
   "execution_count": 73,
   "id": "51d7a01f",
   "metadata": {},
   "outputs": [
    {
     "data": {
      "text/plain": [
       "['monthlyCost',\n",
       " 'hasBalcony',\n",
       " 'accessibleDisabledPeople',\n",
       " 'Unnamed: 0',\n",
       " 'id',\n",
       " 'url',\n",
       " 'locality',\n",
       " 'roomCount',\n",
       " 'hasDressingRoom',\n",
       " 'diningRoomSurface',\n",
       " 'hasDiningRoom',\n",
       " 'hasLivingRoom',\n",
       " 'livingRoomSurface',\n",
       " 'hasOffice',\n",
       " 'kitchenSurface',\n",
       " 'gardenSurface',\n",
       " 'gardenOrientation',\n",
       " 'terraceSurface',\n",
       " 'terraceOrientation',\n",
       " 'hasArmoredDoor',\n",
       " 'hasVisiophone',\n",
       " 'hasAirConditioning',\n",
       " 'hasFireplace',\n",
       " 'hasHeatPump',\n",
       " 'hasPhotovoltaicPanels',\n",
       " 'hasThermicPanels',\n",
       " 'buildingConstructionYear']"
      ]
     },
     "execution_count": 73,
     "metadata": {},
     "output_type": "execute_result"
    }
   ],
   "source": [
    "# Discard the variables\n",
    "dropVar += ['buildingConstructionYear']\n",
    "dropVar"
   ]
  },
  {
   "cell_type": "markdown",
   "id": "f0665975-f0ee-4bbc-83c8-1be0c007fc5a",
   "metadata": {},
   "source": [
    "### FACEDECOUNT, FLOORCOUNT, STREETFACADEWIDTH"
   ]
  },
  {
   "cell_type": "code",
   "execution_count": 74,
   "id": "c9b72884-a5c8-41c2-990e-68358677eb62",
   "metadata": {},
   "outputs": [
    {
     "name": "stdout",
     "output_type": "stream",
     "text": [
      "Count of missing values:\n",
      "facedeCount          23136\n",
      "floorCount           38827\n",
      "streetFacadeWidth    60860\n",
      "dtype: int64\n",
      "\n",
      "Percentage of missing values:\n",
      "facedeCount         30.29\n",
      "floorCount          50.84\n",
      "streetFacadeWidth   79.69\n",
      "dtype: float64 \n",
      "\n"
     ]
    }
   ],
   "source": [
    "Missing(df[['facedeCount', 'floorCount', 'streetFacadeWidth']])\n"
   ]
  },
  {
   "cell_type": "code",
   "execution_count": 75,
   "id": "7a173409-1cbd-4f7c-8477-fdf79255181c",
   "metadata": {},
   "outputs": [
    {
     "data": {
      "text/plain": [
       "['monthlyCost',\n",
       " 'hasBalcony',\n",
       " 'accessibleDisabledPeople',\n",
       " 'Unnamed: 0',\n",
       " 'id',\n",
       " 'url',\n",
       " 'locality',\n",
       " 'roomCount',\n",
       " 'hasDressingRoom',\n",
       " 'diningRoomSurface',\n",
       " 'hasDiningRoom',\n",
       " 'hasLivingRoom',\n",
       " 'livingRoomSurface',\n",
       " 'hasOffice',\n",
       " 'kitchenSurface',\n",
       " 'gardenSurface',\n",
       " 'gardenOrientation',\n",
       " 'terraceSurface',\n",
       " 'terraceOrientation',\n",
       " 'hasArmoredDoor',\n",
       " 'hasVisiophone',\n",
       " 'hasAirConditioning',\n",
       " 'hasFireplace',\n",
       " 'hasHeatPump',\n",
       " 'hasPhotovoltaicPanels',\n",
       " 'hasThermicPanels',\n",
       " 'buildingConstructionYear',\n",
       " 'facedeCount',\n",
       " 'floorCount',\n",
       " 'streetFacadeWidth']"
      ]
     },
     "execution_count": 75,
     "metadata": {},
     "output_type": "execute_result"
    }
   ],
   "source": [
    "# There is a high amount of Nan\n",
    "# and variables less relevant\n",
    "# Drop variables\n",
    "dropVar += ['facedeCount', 'floorCount', 'streetFacadeWidth']\n",
    "dropVar"
   ]
  },
  {
   "cell_type": "markdown",
   "id": "74e3c574-e958-4c38-88f9-9055333040b8",
   "metadata": {},
   "source": [
    "### HABITABLE SURFACE"
   ]
  },
  {
   "cell_type": "code",
   "execution_count": 76,
   "id": "e12969eb-7848-4763-994b-20a9512e3bff",
   "metadata": {},
   "outputs": [
    {
     "name": "stdout",
     "output_type": "stream",
     "text": [
      "Count of missing values:\n",
      "8590\n",
      "\n",
      "Percentage of missing values:\n",
      "11.25 \n",
      "\n"
     ]
    }
   ],
   "source": [
    "Missing(df['habitableSurface'])"
   ]
  },
  {
   "cell_type": "code",
   "execution_count": 77,
   "id": "63909aa7-c3e9-4d5f-83d4-0c06616499bb",
   "metadata": {},
   "outputs": [],
   "source": [
    "# Very relevant, recode Nan to No info\n",
    "df['habitableSurface'] = df['habitableSurface'].fillna('No info')"
   ]
  },
  {
   "cell_type": "markdown",
   "id": "8341614e-488a-4337-907c-94216802306d",
   "metadata": {},
   "source": [
    "### LAND SURFACE"
   ]
  },
  {
   "cell_type": "code",
   "execution_count": 78,
   "id": "23cb1461-d2e8-4ec3-837f-ba5cdba0517b",
   "metadata": {},
   "outputs": [
    {
     "name": "stdout",
     "output_type": "stream",
     "text": [
      "Count of missing values:\n",
      "36833\n",
      "\n",
      "Percentage of missing values:\n",
      "48.230000000000004 \n",
      "\n"
     ]
    }
   ],
   "source": [
    "Missing(df['landSurface'])"
   ]
  },
  {
   "cell_type": "code",
   "execution_count": 79,
   "id": "2ef15688-027d-408a-b140-7ca9d9a07490",
   "metadata": {},
   "outputs": [],
   "source": [
    "# Many Nan but expected as Apartments should have No land\n",
    "df['landSurface'] = df['landSurface'].astype('object')\n",
    "df.loc[(df['type'] == 'Apartment') & (df['landSurface'].isna()), 'landSurface'] = \"Apt: no land\"\n",
    "\n",
    "# For houses, fillNA with No info on land\n",
    "df.loc[(df['type'] == 'House') & (df['landSurface'].isna()), 'landSurface'] = \"No info on land\""
   ]
  },
  {
   "cell_type": "markdown",
   "id": "52858c04-071e-4f30-827f-87d6af4de717",
   "metadata": {},
   "source": [
    "### EPC SCORE"
   ]
  },
  {
   "cell_type": "code",
   "execution_count": 80,
   "id": "6221bcbe-7724-457f-b56e-c7d175489d15",
   "metadata": {},
   "outputs": [
    {
     "name": "stdout",
     "output_type": "stream",
     "text": [
      "Count of missing values:\n",
      "11966\n",
      "\n",
      "Percentage of missing values:\n",
      "15.67 \n",
      "\n"
     ]
    }
   ],
   "source": [
    "Missing(df['epcScore'])"
   ]
  },
  {
   "cell_type": "code",
   "execution_count": 81,
   "id": "d06486f0-04a7-4ece-bbea-8861db964ad8",
   "metadata": {},
   "outputs": [
    {
     "data": {
      "text/plain": [
       "epcScore\n",
       "B      13125\n",
       "C      11920\n",
       "D       9875\n",
       "F       8531\n",
       "A       8460\n",
       "E       6488\n",
       "G       4263\n",
       "A+      1445\n",
       "A++      276\n",
       "G_C        3\n",
       "F_D        3\n",
       "E_C        2\n",
       "C_B        2\n",
       "E_D        2\n",
       "F_C        2\n",
       "C_A        2\n",
       "G_F        2\n",
       "G_E        1\n",
       "D_C        1\n",
       "X          1\n",
       "Name: count, dtype: int64"
      ]
     },
     "execution_count": 81,
     "metadata": {},
     "output_type": "execute_result"
    }
   ],
   "source": [
    "df['epcScore'].value_counts()"
   ]
  },
  {
   "cell_type": "code",
   "execution_count": 82,
   "id": "a3e3094d-f000-4735-ad53-6f1cd1bb3696",
   "metadata": {},
   "outputs": [],
   "source": [
    "# epcScore is relevant\n",
    "# It has some wrong values and 15% nan: replace with No info\n",
    "correct = ['A', 'A+', 'A++', 'B', 'C', 'D', 'E', 'F', 'G']\n",
    "df['epcScore'] = df['epcScore'].where(df['epcScore'].isin(correct), 'No info')"
   ]
  },
  {
   "cell_type": "markdown",
   "id": "dfa74131-e6ac-45da-9eea-ce537385c595",
   "metadata": {},
   "source": [
    "## OUTPUT DATA"
   ]
  },
  {
   "cell_type": "code",
   "execution_count": 83,
   "id": "b6b35222",
   "metadata": {},
   "outputs": [
    {
     "name": "stdout",
     "output_type": "stream",
     "text": [
      "Cleaning ends by dropping 30 columns\n"
     ]
    }
   ],
   "source": [
    "print(f\"Cleaning ends by dropping {len(dropVar)} columns\")"
   ]
  },
  {
   "cell_type": "code",
   "execution_count": 84,
   "id": "b9dfa277",
   "metadata": {},
   "outputs": [],
   "source": [
    "# Drop the colums\n",
    "df = df.drop(dropVar, axis=1)"
   ]
  },
  {
   "cell_type": "code",
   "execution_count": 85,
   "id": "9b20168d-348f-4ec3-ac06-48bfab352592",
   "metadata": {},
   "outputs": [
    {
     "name": "stdout",
     "output_type": "stream",
     "text": [
      "Good news! There are no missing values.\n"
     ]
    }
   ],
   "source": [
    "# Check no missing values\n",
    "Missing(df)"
   ]
  },
  {
   "cell_type": "code",
   "execution_count": 86,
   "id": "a0841138",
   "metadata": {},
   "outputs": [
    {
     "data": {
      "text/plain": [
       "Index(['hasAttic', 'hasBasement', 'hasGarden', 'parkingCountIndoor',\n",
       "       'parkingCountOutdoor', 'hasSwimmingPool', 'hasTerrace', 'price'],\n",
       "      dtype='object')"
      ]
     },
     "execution_count": 86,
     "metadata": {},
     "output_type": "execute_result"
    },
    {
     "data": {
      "text/plain": [
       "Index(['type', 'subtype', 'bedroomCount', 'bathroomCount', 'region',\n",
       "       'province', 'postCode', 'habitableSurface', 'buildingCondition',\n",
       "       'hasLift', 'floodZoneType', 'heatingType', 'kitchenType', 'landSurface',\n",
       "       'toiletCount', 'epcScore'],\n",
       "      dtype='object')"
      ]
     },
     "execution_count": 86,
     "metadata": {},
     "output_type": "execute_result"
    }
   ],
   "source": [
    "# Split the variables into numerical and categorical cols, will be useful later for the analysis\n",
    "numeric_cols = df.select_dtypes(include=np.number).columns\n",
    "numeric_cols\n",
    "\n",
    "categoric_cols = df.select_dtypes(exclude=np.number).columns\n",
    "categoric_cols"
   ]
  },
  {
   "cell_type": "code",
   "execution_count": 87,
   "id": "c83018b2",
   "metadata": {},
   "outputs": [
    {
     "name": "stdout",
     "output_type": "stream",
     "text": [
      "\n",
      "Amount of memory used by all attributes: 72194385\n",
      "\n",
      "<class 'pandas.core.frame.DataFrame'>\n",
      "Index: 76370 entries, 0 to 80367\n",
      "Data columns (total 24 columns):\n",
      " #   Column               Non-Null Count  Dtype   \n",
      "---  ------               --------------  -----   \n",
      " 0   type                 76370 non-null  category\n",
      " 1   subtype              76370 non-null  category\n",
      " 2   bedroomCount         76370 non-null  category\n",
      " 3   bathroomCount        76370 non-null  category\n",
      " 4   region               76370 non-null  category\n",
      " 5   province             76370 non-null  category\n",
      " 6   postCode             76370 non-null  category\n",
      " 7   habitableSurface     76370 non-null  category\n",
      " 8   hasAttic             76370 non-null  int8    \n",
      " 9   hasBasement          76370 non-null  int8    \n",
      " 10  buildingCondition    76370 non-null  category\n",
      " 11  hasLift              76370 non-null  category\n",
      " 12  floodZoneType        76370 non-null  category\n",
      " 13  heatingType          76370 non-null  category\n",
      " 14  kitchenType          76370 non-null  category\n",
      " 15  landSurface          76370 non-null  category\n",
      " 16  hasGarden            76370 non-null  int8    \n",
      " 17  parkingCountIndoor   76370 non-null  float32 \n",
      " 18  parkingCountOutdoor  76370 non-null  float32 \n",
      " 19  toiletCount          76370 non-null  category\n",
      " 20  hasSwimmingPool      76370 non-null  int8    \n",
      " 21  hasTerrace           76370 non-null  int8    \n",
      " 22  epcScore             76370 non-null  category\n",
      " 23  price                76370 non-null  float32 \n",
      "dtypes: category(16), float32(3), int8(5)\n",
      "memory usage: 3.6 MB\n",
      "None\n",
      "\n",
      "Amount of memory used now by all attributes:  3813395\n"
     ]
    }
   ],
   "source": [
    "# Reduce the memory used\n",
    "MemOptimisation(df)"
   ]
  },
  {
   "cell_type": "code",
   "execution_count": 88,
   "id": "dcfce3fd",
   "metadata": {},
   "outputs": [
    {
     "name": "stdout",
     "output_type": "stream",
     "text": [
      "Looking at the shape to see the number of records: (76370, 24)\n",
      "\n",
      "Description of the file to check values range:\n",
      "                       count      mean       std     min       25%       50%       75%         max\n",
      "hasAttic            76370.00      0.16      0.37    0.00      0.00      0.00      0.00        1.00\n",
      "hasBasement         76370.00      0.38      0.49    0.00      0.00      0.00      1.00        1.00\n",
      "hasGarden           76370.00      0.21      0.41    0.00      0.00      0.00      0.00        1.00\n",
      "parkingCountIndoor  76370.00      2.39    261.48    0.00      0.00      0.00      1.00    50000.00\n",
      "parkingCountOutdoor 76370.00      1.97    365.51    0.00      0.00      0.00      0.00   101010.00\n",
      "hasSwimmingPool     76370.00      0.02      0.15    0.00      0.00      0.00      0.00        1.00\n",
      "hasTerrace          76370.00      0.62      0.49    0.00      0.00      1.00      1.00        1.00\n",
      "price               76370.00 447606.06 511564.94 3141.00 230000.00 329900.00 479000.00 15000000.00\n",
      "\n",
      "Attributes and respective data types:\n",
      "<class 'pandas.core.frame.DataFrame'>\n",
      "Index: 76370 entries, 0 to 80367\n",
      "Data columns (total 24 columns):\n",
      " #   Column               Non-Null Count  Dtype   \n",
      "---  ------               --------------  -----   \n",
      " 0   type                 76370 non-null  category\n",
      " 1   subtype              76370 non-null  category\n",
      " 2   bedroomCount         76370 non-null  category\n",
      " 3   bathroomCount        76370 non-null  category\n",
      " 4   region               76370 non-null  category\n",
      " 5   province             76370 non-null  category\n",
      " 6   postCode             76370 non-null  category\n",
      " 7   habitableSurface     76370 non-null  category\n",
      " 8   hasAttic             76370 non-null  int8    \n",
      " 9   hasBasement          76370 non-null  int8    \n",
      " 10  buildingCondition    76370 non-null  category\n",
      " 11  hasLift              76370 non-null  category\n",
      " 12  floodZoneType        76370 non-null  category\n",
      " 13  heatingType          76370 non-null  category\n",
      " 14  kitchenType          76370 non-null  category\n",
      " 15  landSurface          76370 non-null  category\n",
      " 16  hasGarden            76370 non-null  int8    \n",
      " 17  parkingCountIndoor   76370 non-null  float32 \n",
      " 18  parkingCountOutdoor  76370 non-null  float32 \n",
      " 19  toiletCount          76370 non-null  category\n",
      " 20  hasSwimmingPool      76370 non-null  int8    \n",
      " 21  hasTerrace           76370 non-null  int8    \n",
      " 22  epcScore             76370 non-null  category\n",
      " 23  price                76370 non-null  float32 \n",
      "dtypes: category(16), float32(3), int8(5)\n",
      "memory usage: 3.5 MB\n",
      "None\n"
     ]
    }
   ],
   "source": [
    "# Display info about the data remaininig\n",
    "Descriptives(df)"
   ]
  },
  {
   "cell_type": "code",
   "execution_count": 89,
   "id": "143d4a36-a6ee-4faa-a49a-20a1ce458268",
   "metadata": {},
   "outputs": [
    {
     "data": {
      "application/vnd.jupyter.widget-view+json": {
       "model_id": "fbf3ddbbea2b40b2a2b4bf274a158925",
       "version_major": 2,
       "version_minor": 0
      },
      "text/plain": [
       "Summarize dataset:   0%|          | 0/5 [00:00<?, ?it/s]"
      ]
     },
     "metadata": {},
     "output_type": "display_data"
    },
    {
     "name": "stderr",
     "output_type": "stream",
     "text": [
      "100%|██████████| 24/24 [00:01<00:00, 22.57it/s]\n"
     ]
    },
    {
     "data": {
      "application/vnd.jupyter.widget-view+json": {
       "model_id": "561fe8f131354308a158b981218342f0",
       "version_major": 2,
       "version_minor": 0
      },
      "text/plain": [
       "Generate report structure:   0%|          | 0/1 [00:00<?, ?it/s]"
      ]
     },
     "metadata": {},
     "output_type": "display_data"
    },
    {
     "data": {
      "application/vnd.jupyter.widget-view+json": {
       "model_id": "584c53ab060c44ff900442329c7558ea",
       "version_major": 2,
       "version_minor": 0
      },
      "text/plain": [
       "Render HTML:   0%|          | 0/1 [00:00<?, ?it/s]"
      ]
     },
     "metadata": {},
     "output_type": "display_data"
    },
    {
     "data": {
      "application/vnd.jupyter.widget-view+json": {
       "model_id": "f5bd3c6945834485b3ee3d749cf87384",
       "version_major": 2,
       "version_minor": 0
      },
      "text/plain": [
       "Export report to file:   0%|          | 0/1 [00:00<?, ?it/s]"
      ]
     },
     "metadata": {},
     "output_type": "display_data"
    }
   ],
   "source": [
    "# Generate the report\n",
    "profile = ProfileReport(df,title=\"Immoweb: Data Profile\")\n",
    "\n",
    "# Save the report to .html\n",
    "profile.to_file(\"Output/Immoweb_cleaned - data profile.html\")"
   ]
  },
  {
   "cell_type": "code",
   "execution_count": 90,
   "id": "9b65f6d5",
   "metadata": {},
   "outputs": [
    {
     "name": "stdout",
     "output_type": "stream",
     "text": [
      "Cleaned data is saved to: Data/Cleaned - immoweb-dataset.csv\n"
     ]
    }
   ],
   "source": [
    "# Save the data cleaned\n",
    "df.to_csv(\"Data/Cleaned - immoweb-dataset.csv\", index=False, encoding=\"utf-8-sig\")\n",
    "print(\"Cleaned data is saved to: Data/Cleaned - immoweb-dataset.csv\")\n"
   ]
  },
  {
   "cell_type": "code",
   "execution_count": null,
   "id": "67033581-a6f8-4acf-86c7-5facb112333c",
   "metadata": {},
   "outputs": [],
   "source": []
  }
 ],
 "metadata": {
  "kernelspec": {
   "display_name": "base",
   "language": "python",
   "name": "python3"
  },
  "language_info": {
   "codemirror_mode": {
    "name": "ipython",
    "version": 3
   },
   "file_extension": ".py",
   "mimetype": "text/x-python",
   "name": "python",
   "nbconvert_exporter": "python",
   "pygments_lexer": "ipython3",
   "version": "3.11.7"
  }
 },
 "nbformat": 4,
 "nbformat_minor": 5
}
