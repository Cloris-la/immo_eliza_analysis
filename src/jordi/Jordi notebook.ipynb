{
 "cells": [
  {
   "cell_type": "markdown",
   "id": "3149d3da-d9dc-4694-ad85-da8e5cfad831",
   "metadata": {},
   "source": [
    "# IMMOWEB PROJECT: EXPLORATORY DATA ANALYSIS"
   ]
  },
  {
   "cell_type": "code",
   "execution_count": 1,
   "id": "56ce2644-d11e-42ca-8b3a-159036a73939",
   "metadata": {},
   "outputs": [],
   "source": [
    "# Set the notebook to show all outputs in the cell\n",
    "from IPython.core.interactiveshell import InteractiveShell\n",
    "InteractiveShell.ast_node_interactivity = \"all\"\n",
    "\n",
    "#from ydata_profiling import ProfileReport\n",
    "\n",
    "# This is for reading the locality name properly. In avoiding the encoding error\n",
    "import csv\n",
    "import os\n",
    "\n",
    "import numpy as np\n",
    "\n",
    "import warnings\n",
    "warnings.filterwarnings('ignore')\n",
    "\n",
    "# Pandas options for data wrangling and output set-up \n",
    "import pandas as pd\n",
    "pd.set_option('display.max_columns', None) # display all columns\n",
    "pd.set_option('display.expand_frame_repr', False) # print all columns and in the same line\n",
    "pd.set_option('display.max_colwidth', None) # display the full content of each cell\n",
    "pd.set_option('display.float_format', lambda x: '%.2f' %x) # floats to be displayed with 2 decimal places\n",
    "\n",
    "# Visualisation libraries and set-up\n",
    "import matplotlib.pyplot as plt\n",
    "from matplotlib import rcParams\n",
    "import seaborn as sns\n",
    "%matplotlib inline\n",
    "\n",
    "# Set up visualisation preferences\n",
    "plt.rcParams['font.family'] = \"serif\"  # Use serif fonts for plots\n",
    "sns.set_style('whitegrid')  # Set seaborn grid style\n",
    "# sns.set_style('darkgrid')"
   ]
  },
  {
   "cell_type": "markdown",
   "id": "ec5cc8b3-f377-4e78-830b-9566c29aa7b7",
   "metadata": {},
   "source": [
    "## FUNCTIONS USED RECURRENTLY"
   ]
  },
  {
   "cell_type": "code",
   "execution_count": 2,
   "id": "7d82f102-3b4d-4296-8821-7d76ecdd910b",
   "metadata": {},
   "outputs": [],
   "source": [
    "# Function to run basic data frame description\n",
    "def Descriptives(df):\n",
    "    print(\"Looking at the shape to see the number of records:\", df.shape)\n",
    "    print(\"\\nDescription of the file to check values range:\")\n",
    "    print(df.describe().transpose())\n",
    "    print(\"\\nAttributes and respective data types:\")\n",
    "    print(df.info())\n",
    "\n",
    "def MemOptimisation(df):\n",
    "    print(f\"\\nAmount of memory used by all attributes: {df.memory_usage(deep=True).sum()}\\n\")\n",
    "    \n",
    "    # Optimise memory usage\n",
    "    for i in categoric_cols:\n",
    "        df[i] = df[i].astype('category')\n",
    "    for i in numeric_cols:\n",
    "        df[i] = pd.to_numeric(df[i], downcast='integer')\n",
    "        df[i] = pd.to_numeric(df[i], downcast='float')    \n",
    "\n",
    "    print(df.info(memory_usage='deep'))\n",
    "    print(\"\\nAmount of memory used now by all attributes: \",df.memory_usage(deep=True).sum())\n",
    "    \n",
    "# Function to check the missing values (NaNs)\n",
    "def Missing(df):\n",
    "    try:\n",
    "        assert df.notnull().all().all()\n",
    "        print(\"Good news! There are no missing values.\")\n",
    "    \n",
    "    except AssertionError:\n",
    "        print(\"Count of missing values:\")\n",
    "        print(df.isna().sum())\n",
    "        print(\"\\nPercentage of missing values:\")\n",
    "        print(df.isna().mean().round(4)*100, \"\\n\")\n",
    "\n"
   ]
  },
  {
   "cell_type": "code",
   "execution_count": 3,
   "id": "78755480",
   "metadata": {},
   "outputs": [],
   "source": [
    "def Plot_numeric(x):\n",
    "    \n",
    "    print(f'\\n*** {x.upper()} ***')\n",
    "    \n",
    "    fig = plt.figure(figsize=(15, 3))\n",
    "    \n",
    "    plt.subplot(121)\n",
    "    sns.distplot(df[x], color = 'salmon')\n",
    "    plt.xlabel('')\n",
    "    plt.title(f'{x} Distribution')\n",
    "    \n",
    "    plt.subplot(122)\n",
    "    sns.boxplot(x=df[x], color = 'salmon', width=0.4, linewidth=2) \n",
    "    plt.xlabel('')\n",
    "    plt.title(f'{x} Boxplot')\n",
    "    \n",
    "    plt.show()"
   ]
  },
  {
   "cell_type": "code",
   "execution_count": 4,
   "id": "2b705a4d",
   "metadata": {},
   "outputs": [],
   "source": [
    "def Plot_category(x):\n",
    "    print(f'\\n*** {x.upper()} ***')\n",
    "\n",
    "    # Sort the categories by count\n",
    "    order = df[x].value_counts().index\n",
    "\n",
    "    fig, ax = plt.subplots(figsize=(10, 3))\n",
    "\n",
    "    sns.countplot(data=df, y=df[x], order=order, color='salmon', width=0.4, ax=ax)\n",
    "\n",
    "    ax.set_ylabel('')\n",
    "    ax.set_xlabel('')\n",
    "    ax.set_title(f'{x.upper()} COUNT')\n",
    "\n",
    "    # Add count labels to bars\n",
    "    for p in ax.patches:\n",
    "        count = int(p.get_width())\n",
    "        ax.text(p.get_width() + 0.5, p.get_y() + p.get_height() / 2,\n",
    "                f'{count:,}', va='center')\n",
    "\n",
    "    plt.show()"
   ]
  },
  {
   "cell_type": "code",
   "execution_count": 5,
   "id": "75f86842",
   "metadata": {},
   "outputs": [],
   "source": [
    "# # 1. Input & Output paths\n",
    "# input_path = r\"D:\\Projects\\BXL-Bouman-9\\challenge-data-analysis\\data\\raw\\immoweb_dataset.csv\"\n",
    "# output_path = r\"D:\\Projects\\BXL-Bouman-9\\challenge-data-analysis\\data\\cleaned\\immoweb_dataset_cleaned.csv\"\n",
    "\n",
    "# # Check input file exists\n",
    "# if not os.path.exists(input_path):\n",
    "#     raise FileNotFoundError(f\"Input file is not found: {input_path}\")\n",
    "\n",
    "# # 2. Read CSV with multiple encodings\n",
    "# encodings = [\"utf-8\", \"utf-8-sig\", \"ISO-8859-1\", \"latin1\", \"gbk\"]\n",
    "# df = None\n",
    "# for enc in encodings:\n",
    "#     try:\n",
    "#         df = pd.read_csv(input_path, encoding=enc)\n",
    "#         print(f\"Successfully read the file with encoding:{enc}\")\n",
    "#         break\n",
    "#     except Exception:\n",
    "#         continue\n",
    "# if df is None:\n",
    "#     raise UnicodeError(\"Can't read the file with common encodings,please check the file's encode。\")\n"
   ]
  },
  {
   "cell_type": "code",
   "execution_count": 6,
   "id": "d2755daf-c5ae-4611-bd2e-39f45a0e54dd",
   "metadata": {},
   "outputs": [],
   "source": [
    "# Load the CSV file\n",
    "df = pd.read_csv(\"immoweb-dataset.csv\")"
   ]
  },
  {
   "cell_type": "code",
   "execution_count": 7,
   "id": "4ea3885c",
   "metadata": {},
   "outputs": [],
   "source": [
    "# Clean up the column names\n",
    "# df.columns = [col.strip().lower().replace(\" \", \"_\") for col in df.columns]\n",
    "df.columns = [col.strip() for col in df.columns]"
   ]
  },
  {
   "cell_type": "code",
   "execution_count": 8,
   "id": "ebc56592-96d9-4026-9111-382c42887949",
   "metadata": {},
   "outputs": [
    {
     "name": "stdout",
     "output_type": "stream",
     "text": [
      "Looking at the shape to see the number of records: (80368, 53)\n",
      "\n",
      "Description of the file to check values range:\n",
      "                            count        mean        std        min         25%         50%         75%         max\n",
      "Unnamed: 0               80368.00   209681.71  105460.84       0.00   181965.75   235124.50   257006.25   446550.00\n",
      "id                       80368.00 19529221.31 2897688.01 1882546.00 20350553.25 20529847.50 20614940.75 20664387.00\n",
      "bedroomCount             73558.00        3.01       1.83       1.00        2.00        3.00        4.00      100.00\n",
      "bathroomCount            66672.00        1.43       4.56       1.00        1.00        1.00        2.00     1146.00\n",
      "postCode                 80368.00     5266.59    3045.70    1000.00     2330.00     4830.00     8420.00     9992.00\n",
      "habitableSurface         67783.00      178.50     820.88       6.00       93.00      140.00      200.00   185347.00\n",
      "roomCount                21948.00        7.11       5.82       1.00        1.00        6.00       11.00       68.00\n",
      "monthlyCost                  0.00         NaN        NaN        NaN         NaN         NaN         NaN         NaN\n",
      "diningRoomSurface         6901.00       21.12      43.54       1.00       14.00       18.00       24.00     2470.00\n",
      "buildingConstructionYear 49106.00     1978.02      41.60    1753.00     1957.00     1980.00     2017.00     2055.00\n",
      "facedeCount              53239.00        2.83       0.94       1.00        2.00        3.00        4.00       86.00\n",
      "floorCount               37546.00        3.97     114.40       1.00        2.00        3.00        4.00    21963.00\n",
      "streetFacadeWidth        15510.00       16.55     110.03       1.00        6.00        8.00       12.00     8700.00\n",
      "kitchenSurface           24263.00       15.19     109.09       1.00        9.00       12.00       16.00    16202.00\n",
      "landSurface              39541.00     1289.41    5657.08       1.00      218.00      461.00      963.00   580608.00\n",
      "livingRoomSurface        28950.00       37.13     209.68       1.00       25.00       32.00       40.00    34418.00\n",
      "hasBalcony                   0.00         NaN        NaN        NaN         NaN         NaN         NaN         NaN\n",
      "gardenSurface            15958.00      696.32    6308.72       1.00       55.00      171.00      518.00   734674.00\n",
      "parkingCountIndoor       28239.00        6.68     430.01       1.00        1.00        1.00        1.00    50000.00\n",
      "parkingCountOutdoor      18326.00        8.28     746.15       1.00        1.00        2.00        3.00   101010.00\n",
      "toiletCount              55094.00        1.81       8.41       1.00        1.00        2.00        2.00     1958.00\n",
      "terraceSurface           28599.00       24.51      43.24       1.00        8.00       15.00       29.00     2921.00\n",
      "accessibleDisabledPeople     0.00         NaN        NaN        NaN         NaN         NaN         NaN         NaN\n",
      "price                    76370.00   447606.06  511575.74    3141.00   230000.00   329900.00   479000.00 15000000.00\n",
      "\n",
      "Attributes and respective data types:\n",
      "<class 'pandas.core.frame.DataFrame'>\n",
      "RangeIndex: 80368 entries, 0 to 80367\n",
      "Data columns (total 53 columns):\n",
      " #   Column                    Non-Null Count  Dtype  \n",
      "---  ------                    --------------  -----  \n",
      " 0   Unnamed: 0                80368 non-null  int64  \n",
      " 1   id                        80368 non-null  float64\n",
      " 2   url                       80368 non-null  object \n",
      " 3   type                      80368 non-null  object \n",
      " 4   subtype                   80368 non-null  object \n",
      " 5   bedroomCount              73558 non-null  float64\n",
      " 6   bathroomCount             66672 non-null  float64\n",
      " 7   province                  80368 non-null  object \n",
      " 8   locality                  80368 non-null  object \n",
      " 9   postCode                  80368 non-null  int64  \n",
      " 10  habitableSurface          67783 non-null  float64\n",
      " 11  roomCount                 21948 non-null  float64\n",
      " 12  monthlyCost               0 non-null      float64\n",
      " 13  hasAttic                  12516 non-null  object \n",
      " 14  hasBasement               29315 non-null  object \n",
      " 15  hasDressingRoom           2628 non-null   object \n",
      " 16  diningRoomSurface         6901 non-null   float64\n",
      " 17  hasDiningRoom             14141 non-null  object \n",
      " 18  buildingCondition         57992 non-null  object \n",
      " 19  buildingConstructionYear  49106 non-null  float64\n",
      " 20  facedeCount               53239 non-null  float64\n",
      " 21  floorCount                37546 non-null  float64\n",
      " 22  streetFacadeWidth         15510 non-null  float64\n",
      " 23  hasLift                   19044 non-null  object \n",
      " 24  floodZoneType             44466 non-null  object \n",
      " 25  heatingType               47153 non-null  object \n",
      " 26  hasHeatPump               7473 non-null   object \n",
      " 27  hasPhotovoltaicPanels     8048 non-null   object \n",
      " 28  hasThermicPanels          3112 non-null   object \n",
      " 29  kitchenSurface            24263 non-null  float64\n",
      " 30  kitchenType               41916 non-null  object \n",
      " 31  landSurface               39541 non-null  float64\n",
      " 32  hasLivingRoom             42876 non-null  object \n",
      " 33  livingRoomSurface         28950 non-null  float64\n",
      " 34  hasBalcony                0 non-null      float64\n",
      " 35  hasGarden                 15958 non-null  object \n",
      " 36  gardenSurface             15958 non-null  float64\n",
      " 37  gardenOrientation         5601 non-null   object \n",
      " 38  parkingCountIndoor        28239 non-null  float64\n",
      " 39  parkingCountOutdoor       18326 non-null  float64\n",
      " 40  hasAirConditioning        1124 non-null   object \n",
      " 41  hasArmoredDoor            3698 non-null   object \n",
      " 42  hasVisiophone             15991 non-null  object \n",
      " 43  hasOffice                 10387 non-null  object \n",
      " 44  toiletCount               55094 non-null  float64\n",
      " 45  hasSwimmingPool           1816 non-null   object \n",
      " 46  hasFireplace              3044 non-null   object \n",
      " 47  hasTerrace                47429 non-null  object \n",
      " 48  terraceSurface            28599 non-null  float64\n",
      " 49  terraceOrientation        11262 non-null  object \n",
      " 50  accessibleDisabledPeople  0 non-null      float64\n",
      " 51  epcScore                  65391 non-null  object \n",
      " 52  price                     76370 non-null  float64\n",
      "dtypes: float64(22), int64(2), object(29)\n",
      "memory usage: 32.5+ MB\n",
      "None\n"
     ]
    }
   ],
   "source": [
    "Descriptives(df)"
   ]
  },
  {
   "cell_type": "code",
   "execution_count": null,
   "id": "a0841138",
   "metadata": {},
   "outputs": [],
   "source": [
    "# # Differentiate numerical and categorical cols\n",
    "# numeric_cols = df.select_dtypes(include=np.number).columns\n",
    "# numeric_cols\n",
    "\n",
    "# categoric_cols = df.select_dtypes(exclude=np.number).columns\n",
    "# categoric_cols"
   ]
  },
  {
   "cell_type": "code",
   "execution_count": 9,
   "id": "0b189c23",
   "metadata": {},
   "outputs": [
    {
     "name": "stdout",
     "output_type": "stream",
     "text": [
      "Unnamed: 0\n",
      "id\n",
      "url\n",
      "type\n",
      "subtype\n",
      "bedroomCount\n",
      "bathroomCount\n",
      "province\n",
      "locality\n",
      "postCode\n",
      "habitableSurface\n",
      "roomCount\n",
      "monthlyCost\n",
      "hasAttic\n",
      "hasBasement\n",
      "hasDressingRoom\n",
      "diningRoomSurface\n",
      "hasDiningRoom\n",
      "buildingCondition\n",
      "buildingConstructionYear\n",
      "facedeCount\n",
      "floorCount\n",
      "streetFacadeWidth\n",
      "hasLift\n",
      "floodZoneType\n",
      "heatingType\n",
      "hasHeatPump\n",
      "hasPhotovoltaicPanels\n",
      "hasThermicPanels\n",
      "kitchenSurface\n",
      "kitchenType\n",
      "landSurface\n",
      "hasLivingRoom\n",
      "livingRoomSurface\n",
      "hasBalcony\n",
      "hasGarden\n",
      "gardenSurface\n",
      "gardenOrientation\n",
      "parkingCountIndoor\n",
      "parkingCountOutdoor\n",
      "hasAirConditioning\n",
      "hasArmoredDoor\n",
      "hasVisiophone\n",
      "hasOffice\n",
      "toiletCount\n",
      "hasSwimmingPool\n",
      "hasFireplace\n",
      "hasTerrace\n",
      "terraceSurface\n",
      "terraceOrientation\n",
      "accessibleDisabledPeople\n",
      "epcScore\n",
      "price\n"
     ]
    }
   ],
   "source": [
    "print(*df.columns, sep=\"\\n\")"
   ]
  },
  {
   "cell_type": "markdown",
   "id": "73357fe3",
   "metadata": {},
   "source": [
    "### TARGET VARIABLE: PRICE"
   ]
  },
  {
   "cell_type": "code",
   "execution_count": 10,
   "id": "87fe79cf",
   "metadata": {},
   "outputs": [
    {
     "name": "stdout",
     "output_type": "stream",
     "text": [
      "Count of missing values:\n",
      "3998\n",
      "\n",
      "Percentage of missing values:\n",
      "4.97 \n",
      "\n"
     ]
    }
   ],
   "source": [
    "Missing(df['price'])"
   ]
  },
  {
   "cell_type": "code",
   "execution_count": 11,
   "id": "551d0806",
   "metadata": {},
   "outputs": [],
   "source": [
    "# Price is the target variable, we cannot input a value for the missing values\n",
    "# as we cannot check the reliability of the ML model againt an inputted value: model would be biased\n",
    "df = df.dropna(subset=['price'])"
   ]
  },
  {
   "cell_type": "code",
   "execution_count": 12,
   "id": "97180a52",
   "metadata": {},
   "outputs": [
    {
     "name": "stdout",
     "output_type": "stream",
     "text": [
      "Count of missing values:\n",
      "Unnamed: 0                      0\n",
      "id                              0\n",
      "url                             0\n",
      "type                            0\n",
      "subtype                         0\n",
      "bedroomCount                 2820\n",
      "bathroomCount                9705\n",
      "province                        0\n",
      "locality                        0\n",
      "postCode                        0\n",
      "habitableSurface             8590\n",
      "roomCount                   54423\n",
      "monthlyCost                 76370\n",
      "hasAttic                    63856\n",
      "hasBasement                 47057\n",
      "hasDressingRoom             73742\n",
      "diningRoomSurface           69471\n",
      "hasDiningRoom               62231\n",
      "buildingCondition           18381\n",
      "buildingConstructionYear    27268\n",
      "facedeCount                 23136\n",
      "floorCount                  38827\n",
      "streetFacadeWidth           60860\n",
      "hasLift                     57327\n",
      "floodZoneType               33466\n",
      "heatingType                 29220\n",
      "hasHeatPump                 68897\n",
      "hasPhotovoltaicPanels       68322\n",
      "hasThermicPanels            73258\n",
      "kitchenSurface              52109\n",
      "kitchenType                 34458\n",
      "landSurface                 36833\n",
      "hasLivingRoom               33500\n",
      "livingRoomSurface           47423\n",
      "hasBalcony                  76370\n",
      "hasGarden                   60413\n",
      "gardenSurface               60413\n",
      "gardenOrientation           70769\n",
      "parkingCountIndoor          48567\n",
      "parkingCountOutdoor         58275\n",
      "hasAirConditioning          75246\n",
      "hasArmoredDoor              72672\n",
      "hasVisiophone               60379\n",
      "hasOffice                   65985\n",
      "toiletCount                 21280\n",
      "hasSwimmingPool             74554\n",
      "hasFireplace                73326\n",
      "hasTerrace                  28943\n",
      "terraceSurface              47772\n",
      "terraceOrientation          65108\n",
      "accessibleDisabledPeople    76370\n",
      "epcScore                    11966\n",
      "price                           0\n",
      "dtype: int64\n",
      "\n",
      "Percentage of missing values:\n",
      "Unnamed: 0                   0.00\n",
      "id                           0.00\n",
      "url                          0.00\n",
      "type                         0.00\n",
      "subtype                      0.00\n",
      "bedroomCount                 3.69\n",
      "bathroomCount               12.71\n",
      "province                     0.00\n",
      "locality                     0.00\n",
      "postCode                     0.00\n",
      "habitableSurface            11.25\n",
      "roomCount                   71.26\n",
      "monthlyCost                100.00\n",
      "hasAttic                    83.61\n",
      "hasBasement                 61.62\n",
      "hasDressingRoom             96.56\n",
      "diningRoomSurface           90.97\n",
      "hasDiningRoom               81.49\n",
      "buildingCondition           24.07\n",
      "buildingConstructionYear    35.71\n",
      "facedeCount                 30.29\n",
      "floorCount                  50.84\n",
      "streetFacadeWidth           79.69\n",
      "hasLift                     75.06\n",
      "floodZoneType               43.82\n",
      "heatingType                 38.26\n",
      "hasHeatPump                 90.21\n",
      "hasPhotovoltaicPanels       89.46\n",
      "hasThermicPanels            95.93\n",
      "kitchenSurface              68.23\n",
      "kitchenType                 45.12\n",
      "landSurface                 48.23\n",
      "hasLivingRoom               43.87\n",
      "livingRoomSurface           62.10\n",
      "hasBalcony                 100.00\n",
      "hasGarden                   79.11\n",
      "gardenSurface               79.11\n",
      "gardenOrientation           92.67\n",
      "parkingCountIndoor          63.59\n",
      "parkingCountOutdoor         76.31\n",
      "hasAirConditioning          98.53\n",
      "hasArmoredDoor              95.16\n",
      "hasVisiophone               79.06\n",
      "hasOffice                   86.40\n",
      "toiletCount                 27.86\n",
      "hasSwimmingPool             97.62\n",
      "hasFireplace                96.01\n",
      "hasTerrace                  37.90\n",
      "terraceSurface              62.55\n",
      "terraceOrientation          85.25\n",
      "accessibleDisabledPeople   100.00\n",
      "epcScore                    15.67\n",
      "price                        0.00\n",
      "dtype: float64 \n",
      "\n"
     ]
    }
   ],
   "source": [
    "Missing(df)"
   ]
  },
  {
   "cell_type": "code",
   "execution_count": 19,
   "id": "d1a48f5c",
   "metadata": {},
   "outputs": [
    {
     "data": {
      "text/plain": [
       "['monthlyCost', 'hasBalcony', 'accessibleDisabledPeople']"
      ]
     },
     "execution_count": 19,
     "metadata": {},
     "output_type": "execute_result"
    }
   ],
   "source": [
    "# We already see there are variables with 100% missing values we can drop\n",
    "dropVar = []\n",
    "dropVar = df.columns[df.isna().sum() == len(df)].tolist()\n",
    "dropVar\n",
    "\n",
    "\n"
   ]
  },
  {
   "cell_type": "markdown",
   "id": "c237e077-ecb6-4726-be13-5d847a033362",
   "metadata": {},
   "source": [
    "### UNNAMED"
   ]
  },
  {
   "cell_type": "code",
   "execution_count": 20,
   "id": "b8b34351-d499-4583-bbc9-30d6bf419c7e",
   "metadata": {},
   "outputs": [
    {
     "data": {
      "text/plain": [
       "['monthlyCost', 'hasBalcony', 'accessibleDisabledPeople', 'Unnamed']"
      ]
     },
     "execution_count": 20,
     "metadata": {},
     "output_type": "execute_result"
    }
   ],
   "source": [
    "# This is an index variable, as presumabily the data comes from a dataframe that was saved as CSV keeping the index column\n",
    "dropVar += ['Unnamed']\n",
    "dropVar"
   ]
  },
  {
   "cell_type": "markdown",
   "id": "47104749-489a-4c3c-b42f-a9bf6e143486",
   "metadata": {},
   "source": [
    "### ID and URL"
   ]
  },
  {
   "cell_type": "code",
   "execution_count": 21,
   "id": "f68b8739-ded4-48dd-992a-85ea61df2e19",
   "metadata": {},
   "outputs": [
    {
     "data": {
      "text/plain": [
       "np.int64(0)"
      ]
     },
     "execution_count": 21,
     "metadata": {},
     "output_type": "execute_result"
    }
   ],
   "source": [
    "# These variables have no value for predicting price: they can be dropped\n",
    "# But, first checking if there are duplicated records\n",
    "df.duplicated(subset=['id','url'], keep=False).sum()"
   ]
  },
  {
   "cell_type": "code",
   "execution_count": 22,
   "id": "c0fc6193-1536-4090-af65-30af1d8f7a9a",
   "metadata": {},
   "outputs": [
    {
     "data": {
      "text/plain": [
       "['monthlyCost',\n",
       " 'hasBalcony',\n",
       " 'accessibleDisabledPeople',\n",
       " 'Unnamed',\n",
       " 'id',\n",
       " 'url']"
      ]
     },
     "execution_count": 22,
     "metadata": {},
     "output_type": "execute_result"
    }
   ],
   "source": [
    "dropVar += ['id', 'url']\n",
    "dropVar\n"
   ]
  },
  {
   "cell_type": "markdown",
   "id": "ceb42a2a-2b59-477a-8fb8-6767c5815c6e",
   "metadata": {},
   "source": [
    "### TYPE and SUBTYPE"
   ]
  },
  {
   "cell_type": "code",
   "execution_count": 23,
   "id": "75dd9309-7495-4bff-ba48-1540a637f256",
   "metadata": {},
   "outputs": [
    {
     "data": {
      "text/plain": [
       "type\n",
       "HOUSE        45228\n",
       "APARTMENT    31142\n",
       "Name: count, dtype: int64"
      ]
     },
     "execution_count": 23,
     "metadata": {},
     "output_type": "execute_result"
    }
   ],
   "source": [
    "# Checking the different values in type\n",
    "df.type.value_counts()"
   ]
  },
  {
   "cell_type": "code",
   "execution_count": null,
   "id": "d2494d8b-a297-4ab7-9fd3-11bd00207429",
   "metadata": {},
   "outputs": [],
   "source": [
    "# The variable subtype shows many different values\n",
    "# When developping ML model, we should consider grouping to reduce cardinality"
   ]
  },
  {
   "cell_type": "code",
   "execution_count": 30,
   "id": "582c41a4-b46b-4e22-81bb-5ddef237b412",
   "metadata": {},
   "outputs": [
    {
     "data": {
      "text/plain": [
       "type       subtype             \n",
       "APARTMENT  APARTMENT               23844\n",
       "           DUPLEX                   1691\n",
       "           FLAT_STUDIO              1381\n",
       "           GROUND_FLOOR             1771\n",
       "           KOT                       331\n",
       "           LOFT                      259\n",
       "           PENTHOUSE                1265\n",
       "           SERVICE_FLAT              449\n",
       "           TRIPLEX                   151\n",
       "HOUSE      APARTMENT_BLOCK          2454\n",
       "           BUNGALOW                  427\n",
       "           CASTLE                     68\n",
       "           CHALET                    166\n",
       "           COUNTRY_COTTAGE           309\n",
       "           EXCEPTIONAL_PROPERTY      813\n",
       "           FARMHOUSE                 289\n",
       "           HOUSE                   33971\n",
       "           MANOR_HOUSE                46\n",
       "           MANSION                   544\n",
       "           MIXED_USE_BUILDING       1840\n",
       "           OTHER_PROPERTY             54\n",
       "           PAVILION                    1\n",
       "           TOWN_HOUSE                477\n",
       "           VILLA                    3769\n",
       "Name: count, dtype: int64"
      ]
     },
     "execution_count": 30,
     "metadata": {},
     "output_type": "execute_result"
    }
   ],
   "source": [
    "ad_types = df[['type', 'subtype']]\n",
    "ad_types.groupby(['type', 'subtype']).value_counts()"
   ]
  },
  {
   "cell_type": "markdown",
   "id": "ae3b9d13-695e-4f91-9df9-7c317be06e5d",
   "metadata": {},
   "source": [
    "### GEO VARIABLES: PROVINCE, LOCALITY, POSTCODE & REGION"
   ]
  },
  {
   "cell_type": "code",
   "execution_count": 31,
   "id": "8fa7f820",
   "metadata": {},
   "outputs": [],
   "source": [
    "# Create a function to assign Regions to the locality\n",
    "\n",
    "def map_region(row):\n",
    "    loc = str(row[\"locality\"]).strip()\n",
    "    prov = row[\"province\"]\n",
    "    if loc in german_towns:\n",
    "        return \"German-speaking Community\"\n",
    "    if prov == \"Brussels\":\n",
    "        return \"Brussels\"\n",
    "    if prov in flemish:\n",
    "        return \"Flanders\"\n",
    "    if prov in walloon:\n",
    "        return \"Wallonia\"\n",
    "    return \"Unknown\""
   ]
  },
  {
   "cell_type": "code",
   "execution_count": 32,
   "id": "5905731f-eb00-48ff-911b-df485f7125f5",
   "metadata": {},
   "outputs": [
    {
     "ename": "KeyError",
     "evalue": "\"['postcode'] not in index\"",
     "output_type": "error",
     "traceback": [
      "\u001b[31m---------------------------------------------------------------------------\u001b[39m",
      "\u001b[31mKeyError\u001b[39m                                  Traceback (most recent call last)",
      "\u001b[36mCell\u001b[39m\u001b[36m \u001b[39m\u001b[32mIn[32]\u001b[39m\u001b[32m, line 17\u001b[39m\n\u001b[32m     14\u001b[39m df.insert(province_idx, \u001b[33m\"\u001b[39m\u001b[33mregion\u001b[39m\u001b[33m\"\u001b[39m, region_series)\n\u001b[32m     16\u001b[39m \u001b[38;5;66;03m# Strip whitespace in locality,Region,province,postCode\u001b[39;00m\n\u001b[32m---> \u001b[39m\u001b[32m17\u001b[39m df[[\u001b[33m\"\u001b[39m\u001b[33mlocality\u001b[39m\u001b[33m\"\u001b[39m, \u001b[33m\"\u001b[39m\u001b[33mregion\u001b[39m\u001b[33m\"\u001b[39m, \u001b[33m\"\u001b[39m\u001b[33mprovince\u001b[39m\u001b[33m\"\u001b[39m, \u001b[33m\"\u001b[39m\u001b[33mpostcode\u001b[39m\u001b[33m\"\u001b[39m]] = \u001b[43mdf\u001b[49m\u001b[43m[\u001b[49m\u001b[43m[\u001b[49m\u001b[33;43m\"\u001b[39;49m\u001b[33;43mlocality\u001b[39;49m\u001b[33;43m\"\u001b[39;49m\u001b[43m,\u001b[49m\u001b[43m \u001b[49m\u001b[33;43m\"\u001b[39;49m\u001b[33;43mregion\u001b[39;49m\u001b[33;43m\"\u001b[39;49m\u001b[43m,\u001b[49m\u001b[43m \u001b[49m\u001b[33;43m\"\u001b[39;49m\u001b[33;43mprovince\u001b[39;49m\u001b[33;43m\"\u001b[39;49m\u001b[43m,\u001b[49m\u001b[43m \u001b[49m\u001b[33;43m\"\u001b[39;49m\u001b[33;43mpostcode\u001b[39;49m\u001b[33;43m\"\u001b[39;49m\u001b[43m]\u001b[49m\u001b[43m]\u001b[49m.astype(\u001b[38;5;28mstr\u001b[39m).apply(\u001b[38;5;28;01mlambda\u001b[39;00m x: x.str.strip())\n",
      "\u001b[36mFile \u001b[39m\u001b[32mc:\\Users\\bljor\\AppData\\Local\\Programs\\Python\\Python313\\Lib\\site-packages\\pandas\\core\\frame.py:4113\u001b[39m, in \u001b[36mDataFrame.__getitem__\u001b[39m\u001b[34m(self, key)\u001b[39m\n\u001b[32m   4111\u001b[39m     \u001b[38;5;28;01mif\u001b[39;00m is_iterator(key):\n\u001b[32m   4112\u001b[39m         key = \u001b[38;5;28mlist\u001b[39m(key)\n\u001b[32m-> \u001b[39m\u001b[32m4113\u001b[39m     indexer = \u001b[38;5;28;43mself\u001b[39;49m\u001b[43m.\u001b[49m\u001b[43mcolumns\u001b[49m\u001b[43m.\u001b[49m\u001b[43m_get_indexer_strict\u001b[49m\u001b[43m(\u001b[49m\u001b[43mkey\u001b[49m\u001b[43m,\u001b[49m\u001b[43m \u001b[49m\u001b[33;43m\"\u001b[39;49m\u001b[33;43mcolumns\u001b[39;49m\u001b[33;43m\"\u001b[39;49m\u001b[43m)\u001b[49m[\u001b[32m1\u001b[39m]\n\u001b[32m   4115\u001b[39m \u001b[38;5;66;03m# take() does not accept boolean indexers\u001b[39;00m\n\u001b[32m   4116\u001b[39m \u001b[38;5;28;01mif\u001b[39;00m \u001b[38;5;28mgetattr\u001b[39m(indexer, \u001b[33m\"\u001b[39m\u001b[33mdtype\u001b[39m\u001b[33m\"\u001b[39m, \u001b[38;5;28;01mNone\u001b[39;00m) == \u001b[38;5;28mbool\u001b[39m:\n",
      "\u001b[36mFile \u001b[39m\u001b[32mc:\\Users\\bljor\\AppData\\Local\\Programs\\Python\\Python313\\Lib\\site-packages\\pandas\\core\\indexes\\base.py:6212\u001b[39m, in \u001b[36mIndex._get_indexer_strict\u001b[39m\u001b[34m(self, key, axis_name)\u001b[39m\n\u001b[32m   6209\u001b[39m \u001b[38;5;28;01melse\u001b[39;00m:\n\u001b[32m   6210\u001b[39m     keyarr, indexer, new_indexer = \u001b[38;5;28mself\u001b[39m._reindex_non_unique(keyarr)\n\u001b[32m-> \u001b[39m\u001b[32m6212\u001b[39m \u001b[38;5;28;43mself\u001b[39;49m\u001b[43m.\u001b[49m\u001b[43m_raise_if_missing\u001b[49m\u001b[43m(\u001b[49m\u001b[43mkeyarr\u001b[49m\u001b[43m,\u001b[49m\u001b[43m \u001b[49m\u001b[43mindexer\u001b[49m\u001b[43m,\u001b[49m\u001b[43m \u001b[49m\u001b[43maxis_name\u001b[49m\u001b[43m)\u001b[49m\n\u001b[32m   6214\u001b[39m keyarr = \u001b[38;5;28mself\u001b[39m.take(indexer)\n\u001b[32m   6215\u001b[39m \u001b[38;5;28;01mif\u001b[39;00m \u001b[38;5;28misinstance\u001b[39m(key, Index):\n\u001b[32m   6216\u001b[39m     \u001b[38;5;66;03m# GH 42790 - Preserve name from an Index\u001b[39;00m\n",
      "\u001b[36mFile \u001b[39m\u001b[32mc:\\Users\\bljor\\AppData\\Local\\Programs\\Python\\Python313\\Lib\\site-packages\\pandas\\core\\indexes\\base.py:6264\u001b[39m, in \u001b[36mIndex._raise_if_missing\u001b[39m\u001b[34m(self, key, indexer, axis_name)\u001b[39m\n\u001b[32m   6261\u001b[39m     \u001b[38;5;28;01mraise\u001b[39;00m \u001b[38;5;167;01mKeyError\u001b[39;00m(\u001b[33mf\u001b[39m\u001b[33m\"\u001b[39m\u001b[33mNone of [\u001b[39m\u001b[38;5;132;01m{\u001b[39;00mkey\u001b[38;5;132;01m}\u001b[39;00m\u001b[33m] are in the [\u001b[39m\u001b[38;5;132;01m{\u001b[39;00maxis_name\u001b[38;5;132;01m}\u001b[39;00m\u001b[33m]\u001b[39m\u001b[33m\"\u001b[39m)\n\u001b[32m   6263\u001b[39m not_found = \u001b[38;5;28mlist\u001b[39m(ensure_index(key)[missing_mask.nonzero()[\u001b[32m0\u001b[39m]].unique())\n\u001b[32m-> \u001b[39m\u001b[32m6264\u001b[39m \u001b[38;5;28;01mraise\u001b[39;00m \u001b[38;5;167;01mKeyError\u001b[39;00m(\u001b[33mf\u001b[39m\u001b[33m\"\u001b[39m\u001b[38;5;132;01m{\u001b[39;00mnot_found\u001b[38;5;132;01m}\u001b[39;00m\u001b[33m not in index\u001b[39m\u001b[33m\"\u001b[39m)\n",
      "\u001b[31mKeyError\u001b[39m: \"['postcode'] not in index\""
     ]
    }
   ],
   "source": [
    "# Add Region column\n",
    "flemish = [\"Antwerp\", \"Limburg\", \"East Flanders\", \"Flemish Brabant\", \"West Flanders\"]\n",
    "walloon = [\"Hainaut\", \"Liège\", \"Luxembourg\", \"Namur\", \"Walloon Brabant\"]\n",
    "german_towns = [\n",
    "        \"Eupen\", \"Kelmis\", \"Raeren\", \"Lontzen\", \"Bütgenbach\",\n",
    "        \"Büllingen\", \"Amel\", \"Burg-Reuland\", \"St. Vith\"\n",
    "    ]\n",
    "\n",
    "df[\"region\"] = df.apply(map_region, axis=1)\n",
    "\n",
    "# Move \"Region\" column to left of \"province\"\n",
    "region_series = df.pop(\"region\")\n",
    "province_idx = df.columns.get_loc(\"province\")\n",
    "df.insert(province_idx, \"region\", region_series)\n",
    "\n",
    "# Strip whitespace in locality,Region,province,postCode\n",
    "df[[\"locality\", \"region\", \"province\", \"postcode\"]] = df[[\"locality\", \"region\", \"province\", \"postcode\"]].astype(str).apply(lambda x: x.str.strip())\n"
   ]
  },
  {
   "cell_type": "markdown",
   "id": "1f62035a",
   "metadata": {},
   "source": [
    " HabitableSurface, hasAttic, hasBasement,diningRoomSurface, hasDiningRoom, hasLift, epcScore,accessibleDisabledPeople"
   ]
  },
  {
   "cell_type": "code",
   "execution_count": null,
   "id": "1c9a2828",
   "metadata": {},
   "outputs": [],
   "source": [
    " # 6.  Fill selected columns' NaN with \"No value\"\n",
    "# cols_to_fill = [\n",
    "#     \"habitableSurface\", \"hasAttic\", \"hasBasement\",\n",
    "#     \"diningRoomSurface\", \"hasDiningRoom\", \"hasLift\", \"epcScore\"\n",
    "#     ]\n",
    "# for col in cols_to_fill:\n",
    "#     if col in df.columns:\n",
    "#         df[col] = df[col].fillna(\"No value\")\n",
    "\n",
    "# Drop column accessibleDisabledPeople if entirely empty\n",
    "col_drop = \"accessibleDisabledPeople\"\n",
    "if col_drop in df.columns and df[col_drop].isnull().all():\n",
    "    df.drop(columns=[col_drop], inplace=True)\n",
    "\n",
    "# 8. Strip whitespace from all text columns\n",
    "for col in df.select_dtypes(include=[\"object\"]).columns:\n",
    "    df[col] = df[col].astype(str).str.strip()\n",
    "\n"
   ]
  },
  {
   "cell_type": "markdown",
   "id": "d61786cc-4a3a-475b-a32e-5b05c11d470a",
   "metadata": {},
   "source": [
    "### BEDROOMCOUNT and ROOMCOUNT"
   ]
  },
  {
   "cell_type": "code",
   "execution_count": null,
   "id": "f24de6a7-4c91-4e8c-981f-4f903369df66",
   "metadata": {},
   "outputs": [],
   "source": [
    "# These variables are very similar\n",
    "# and roomCount present high number of missing values\n",
    "Missing(df[['bedroomcount', 'roomcount']])"
   ]
  },
  {
   "cell_type": "code",
   "execution_count": null,
   "id": "ab5e3723-d1a5-4b0d-bfa9-43b2faf2d2de",
   "metadata": {},
   "outputs": [],
   "source": [
    "# for records with missing bedroomCount, take roomCount if exists\n",
    "df['bedroomcount'] = df['bedroomcount'].fillna(df['roomcount'])"
   ]
  },
  {
   "cell_type": "code",
   "execution_count": null,
   "id": "06490cb1-49fe-49bc-b52c-88a2f8ef60ef",
   "metadata": {},
   "outputs": [],
   "source": [
    "# Then discard roomCount\n",
    "dropVar += ['roomCount']\n",
    "dropVar"
   ]
  },
  {
   "cell_type": "code",
   "execution_count": null,
   "id": "c78844fc",
   "metadata": {},
   "outputs": [],
   "source": []
  },
  {
   "cell_type": "code",
   "execution_count": null,
   "id": "1e9a3f11",
   "metadata": {},
   "outputs": [],
   "source": [
    "df = df.drop(['roomcount'], axis=1)"
   ]
  },
  {
   "cell_type": "code",
   "execution_count": null,
   "id": "1fcb8899",
   "metadata": {},
   "outputs": [],
   "source": [
    "Missing(df)"
   ]
  },
  {
   "cell_type": "markdown",
   "id": "942ec8a5-27d0-4f53-bfb8-09f8d348c9a5",
   "metadata": {},
   "source": [
    "### BATHROOMCOUNT and TOILETCOUNT"
   ]
  },
  {
   "cell_type": "markdown",
   "id": "3693a8af-94f4-435d-b548-28f4e3a0658e",
   "metadata": {},
   "source": [
    "These variables are very similar\n",
    "and there is no information about separate or not toilet"
   ]
  },
  {
   "cell_type": "code",
   "execution_count": null,
   "id": "7899d65c-5ae7-44d0-ac90-69b22de3c16e",
   "metadata": {},
   "outputs": [],
   "source": [
    "# First we assume that any property that has missing value for bathroomCount and has 1 toiletCount, has 1 bathroom\n",
    "mask = df['bathroomcount'].isna() & (df['toiletcount'] == 1)\n",
    "df.loc[mask, 'bathroomcount'] = 1"
   ]
  },
  {
   "cell_type": "code",
   "execution_count": null,
   "id": "be82a021-cf24-46d0-8146-f92c464d4e79",
   "metadata": {},
   "outputs": [],
   "source": [
    "# Having a toilet separate from the bathroom does not make much difference\n",
    "# But having an extra toilet does\n",
    "df[\"extratoilet\"] = df['toiletcount'].fillna(0) - df['bathroomcount'].fillna(0)"
   ]
  },
  {
   "cell_type": "code",
   "execution_count": null,
   "id": "1343c89b-9657-455a-a118-1b76dbc418c1",
   "metadata": {},
   "outputs": [],
   "source": [
    "Missing(df[['bathroomcount', 'toiletcount', 'extratoilet']])"
   ]
  },
  {
   "cell_type": "code",
   "execution_count": null,
   "id": "32778b97",
   "metadata": {},
   "outputs": [],
   "source": [
    "Missing(df)"
   ]
  },
  {
   "cell_type": "markdown",
   "id": "a489e681-7279-4747-bd79-54b7db392d3a",
   "metadata": {},
   "source": [
    "# to continue..."
   ]
  },
  {
   "cell_type": "code",
   "execution_count": null,
   "id": "f171c14b-8fa7-426b-b31c-31ac31a9d4b4",
   "metadata": {},
   "outputs": [],
   "source": [
    "Missing(df)"
   ]
  },
  {
   "cell_type": "markdown",
   "id": "ebf17a4f",
   "metadata": {},
   "source": [
    "### parkingCountIndoor\tparkingCountOutdoor\n"
   ]
  },
  {
   "cell_type": "code",
   "execution_count": null,
   "id": "8c2e4730",
   "metadata": {},
   "outputs": [],
   "source": [
    "pk = df[['parkingcountindoor', 'parkingcountoutdoor']\n",
    "Missing(pk)"
   ]
  },
  {
   "cell_type": "code",
   "execution_count": null,
   "id": "089b79a7",
   "metadata": {},
   "outputs": [],
   "source": [
    "pk.value_counts()"
   ]
  },
  {
   "cell_type": "code",
   "execution_count": null,
   "id": "54d7ea04",
   "metadata": {},
   "outputs": [],
   "source": [
    "df['parking'] = df['parkingcountindoor']\n",
    "df.head()"
   ]
  },
  {
   "cell_type": "code",
   "execution_count": null,
   "id": "a15d176c",
   "metadata": {},
   "outputs": [],
   "source": [
    "df['parking'] = df['parking'].fillna(df['parkingcountoutdoor'])\n",
    "df['parking'] = df['parking'].fillna(0)\n",
    "Missing(df['parking'])"
   ]
  },
  {
   "cell_type": "code",
   "execution_count": null,
   "id": "528ed605",
   "metadata": {},
   "outputs": [],
   "source": [
    "# Assume that if parking = parking outdoor, they are the same\n",
    "# so drop values in parking outdoor\n",
    "mask = df['parking'] == df['parkingcountoutdoor']\n",
    "df.loc[mask, ['parkingcountoutdoor']] = None \n"
   ]
  },
  {
   "cell_type": "code",
   "execution_count": null,
   "id": "2b1fe544",
   "metadata": {},
   "outputs": [],
   "source": [
    "# add to parking the extra outdoor spaces to parking\n",
    "# we are assuming that parking is double counted\n",
    "mask = df['parking'] < df['parkingcountoutdoor']\n",
    "df.loc[mask, 'parking'] += df.loc[mask, 'parkingcountoutdoor'] - df.loc[mask, 'parking']\n"
   ]
  },
  {
   "cell_type": "code",
   "execution_count": null,
   "id": "8cbefb22",
   "metadata": {},
   "outputs": [],
   "source": [
    "df = df.drop(pk, axis=1)"
   ]
  },
  {
   "cell_type": "code",
   "execution_count": null,
   "id": "8fd7cc73",
   "metadata": {},
   "outputs": [],
   "source": [
    "Missing(df)"
   ]
  },
  {
   "cell_type": "markdown",
   "id": "f266d4e8",
   "metadata": {},
   "source": [
    "### hasGarden\tgardenSurface, gardenOrientation\n",
    "### hasTerrace\tterraceSurface\tterraceOrientation\n"
   ]
  },
  {
   "cell_type": "code",
   "execution_count": null,
   "id": "e10f9436",
   "metadata": {},
   "outputs": [],
   "source": [
    "print(df['hasgarden'].value_counts())\n",
    "print(df['hasterrace'].value_counts())"
   ]
  },
  {
   "cell_type": "code",
   "execution_count": null,
   "id": "c3cd27bf",
   "metadata": {},
   "outputs": [],
   "source": [
    "# Recode hasterrace to 1 (has) and O (don't)\n",
    "df['hasgarden'] = df['hasgarden'].apply(lambda x: 1 if x == True else 0)\n",
    "df['hasterrace'] = df['hasterrace'].apply(lambda x: 1 if x == True else 0)"
   ]
  },
  {
   "cell_type": "code",
   "execution_count": null,
   "id": "b0a5538a",
   "metadata": {},
   "outputs": [],
   "source": [
    "df.loc[df['hasgarden'] == 0, 'gardensurface'] = 0\n",
    "df.loc[df['hasterrace'] == 0, 'terracesurface'] = 0"
   ]
  },
  {
   "cell_type": "code",
   "execution_count": null,
   "id": "cd7e2546",
   "metadata": {},
   "outputs": [],
   "source": [
    "df.loc[df['hasgarden'] == 0, 'gardenorientation'] = \"No garden\"\n",
    "df.loc[df['hasterrace'] == 0, 'terraceorientation'] = \"No terrace\"\n",
    "\n"
   ]
  },
  {
   "cell_type": "code",
   "execution_count": null,
   "id": "8d9a5621",
   "metadata": {},
   "outputs": [],
   "source": [
    "df['gardensurface'] = df['gardensurface'].fillna('Not known')\n",
    "df['terracesurface'] = df['terracesurface'].fillna('Not known')\n",
    "df['gardenorientation'] = df['gardenorientation'].fillna('Not known')\n",
    "df['terraceorientation'] = df['terraceorientation'].fillna('Not known')"
   ]
  },
  {
   "cell_type": "code",
   "execution_count": null,
   "id": "28e3bd6b",
   "metadata": {},
   "outputs": [],
   "source": [
    "df[df['hasterrace'] == 1].head(25)"
   ]
  },
  {
   "cell_type": "code",
   "execution_count": null,
   "id": "ce10448a",
   "metadata": {},
   "outputs": [],
   "source": [
    "Missing(df)"
   ]
  },
  {
   "cell_type": "markdown",
   "id": "b164a146",
   "metadata": {},
   "source": [
    "### hasswimmingpool"
   ]
  },
  {
   "cell_type": "code",
   "execution_count": null,
   "id": "71cf4858",
   "metadata": {},
   "outputs": [],
   "source": [
    "df['hasswimmingpool'].value_counts()"
   ]
  },
  {
   "cell_type": "code",
   "execution_count": null,
   "id": "7274863f",
   "metadata": {},
   "outputs": [],
   "source": [
    "# hasswimmingpool has many missing values,but in Belgium it is rare to have a swimming pool\n",
    "# we can assume that missing values mean there is no swimmin pool\n",
    "# and that having swimmin pool correlates with price\n",
    "df['hasswimmingpool'] = df['hasswimmingpool'].apply(lambda x: 1 if x == True else 0)"
   ]
  },
  {
   "cell_type": "markdown",
   "id": "d32ae5b8",
   "metadata": {},
   "source": [
    "### hasarmoreddoor"
   ]
  },
  {
   "cell_type": "code",
   "execution_count": null,
   "id": "e795fa1b",
   "metadata": {},
   "outputs": [],
   "source": [
    "# hasarmoreddoor may be a nice feature but probably not one that a buyer would consider\n",
    "# and shows many missing values\n",
    "# and a feature that a seller would not care about informing\n",
    "Missing(df['hasarmoreddoor'])"
   ]
  },
  {
   "cell_type": "code",
   "execution_count": null,
   "id": "6ca3cf28",
   "metadata": {},
   "outputs": [],
   "source": [
    "# we can drop hasarmoreddoor\n",
    "df = df.drop(['hasarmoreddoor'], axis=1)"
   ]
  },
  {
   "cell_type": "markdown",
   "id": "2b3094ff",
   "metadata": {},
   "source": [
    "### hasvisiophone"
   ]
  },
  {
   "cell_type": "code",
   "execution_count": null,
   "id": "6f700454",
   "metadata": {},
   "outputs": [],
   "source": [
    "# hasvisiophone may be a nice feature but probably not one that a buyer would consider\n",
    "# and shows many missing values\n",
    "# and a feature that a seller would not care about informing\n",
    "Missing(df['hasvisiophone'])"
   ]
  },
  {
   "cell_type": "code",
   "execution_count": null,
   "id": "bf078633",
   "metadata": {},
   "outputs": [],
   "source": [
    "df = df.drop(['hasvisiophone'], axis=1)"
   ]
  },
  {
   "cell_type": "markdown",
   "id": "9abb6f32",
   "metadata": {},
   "source": [
    "### hasoffice"
   ]
  },
  {
   "cell_type": "code",
   "execution_count": null,
   "id": "dac52ee0",
   "metadata": {},
   "outputs": [],
   "source": [
    "# hasoffice may be a nice\n",
    "# but how to differenciate with nuumber of rooms and bedrooms?\n",
    "# Is it counted twice?\n",
    "# also shows many missing values\n",
    "\n",
    "Missing(df['hasoffice'])"
   ]
  },
  {
   "cell_type": "code",
   "execution_count": null,
   "id": "a0625a52",
   "metadata": {},
   "outputs": [],
   "source": [
    "df = df.drop(['hasoffice'], axis=1)"
   ]
  },
  {
   "cell_type": "markdown",
   "id": "67b264ab",
   "metadata": {},
   "source": []
  },
  {
   "cell_type": "code",
   "execution_count": null,
   "id": "b6b35222",
   "metadata": {},
   "outputs": [],
   "source": []
  },
  {
   "cell_type": "code",
   "execution_count": null,
   "id": "b9dfa277",
   "metadata": {},
   "outputs": [],
   "source": []
  },
  {
   "cell_type": "code",
   "execution_count": null,
   "id": "c83018b2",
   "metadata": {},
   "outputs": [],
   "source": []
  },
  {
   "cell_type": "code",
   "execution_count": null,
   "id": "f01048d5",
   "metadata": {},
   "outputs": [],
   "source": []
  },
  {
   "cell_type": "code",
   "execution_count": null,
   "id": "dcfce3fd",
   "metadata": {},
   "outputs": [],
   "source": []
  },
  {
   "cell_type": "code",
   "execution_count": null,
   "id": "0e0f3f73-52ad-4c44-a74d-c6fc64fc7336",
   "metadata": {},
   "outputs": [],
   "source": [
    "for i in numeric_cols:\n",
    "    Plot_numeric(i)"
   ]
  },
  {
   "cell_type": "code",
   "execution_count": null,
   "id": "73e8f49c-19ef-491e-991e-bb3dbefc823c",
   "metadata": {},
   "outputs": [],
   "source": [
    "for i in categoric_cols:\n",
    "    Plot_category(i)"
   ]
  },
  {
   "cell_type": "code",
   "execution_count": null,
   "id": "1cf476da-4704-45ab-b92d-aeb07be650f9",
   "metadata": {},
   "outputs": [],
   "source": []
  },
  {
   "cell_type": "code",
   "execution_count": null,
   "id": "983d20c6-126f-41a4-ae15-e601ab8255ea",
   "metadata": {},
   "outputs": [],
   "source": []
  },
  {
   "cell_type": "code",
   "execution_count": null,
   "id": "9d16830a-eec8-4ccb-a01d-a6add0122f5c",
   "metadata": {},
   "outputs": [],
   "source": [
    "correlations = df.corr(numeric_only=True)\n",
    "fig, ax = plt.subplots(figsize=(12, 8))\n",
    "\n",
    "# Shows only correlation above +/- 0.3\n",
    "sns.heatmap(correlations[(correlations > 0.30) | (correlations < -0.30)], cmap='Blues', annot=True, ax=ax)\n",
    "\n",
    "plt.tight_layout()\n",
    "plt.show()"
   ]
  },
  {
   "cell_type": "code",
   "execution_count": null,
   "id": "1a8ef9cf-6834-4070-ab03-0b8362ce5d71",
   "metadata": {},
   "outputs": [],
   "source": []
  },
  {
   "cell_type": "code",
   "execution_count": null,
   "id": "84b8a6e7-5ad6-4c17-ad62-02c2403231cf",
   "metadata": {},
   "outputs": [],
   "source": []
  },
  {
   "cell_type": "code",
   "execution_count": null,
   "id": "5fa23340-e99e-4919-bded-49f0cb2f7fd8",
   "metadata": {},
   "outputs": [],
   "source": []
  },
  {
   "cell_type": "code",
   "execution_count": null,
   "id": "143d4a36-a6ee-4faa-a49a-20a1ce458268",
   "metadata": {},
   "outputs": [],
   "source": [
    "# Generate the report\n",
    "profile = ProfileReport(df,title=\"Immoweb properties profile\")\n",
    "\n",
    "# Save the report to .html\n",
    "profile.to_file(\"INITIALImmoweb properties profile.html\")"
   ]
  },
  {
   "cell_type": "code",
   "execution_count": null,
   "id": "9b65f6d5",
   "metadata": {},
   "outputs": [],
   "source": [
    "# 9.Save cleaned DataFrame\n",
    "os.makedirs(os.path.dirname(output_path), exist_ok=True)\n",
    "df.to_csv(output_path, index=False, encoding=\"utf-8-sig\")\n",
    "print(f\"data is saved to: {output_path}\")\n"
   ]
  }
 ],
 "metadata": {
  "kernelspec": {
   "display_name": "Python 3",
   "language": "python",
   "name": "python3"
  },
  "language_info": {
   "codemirror_mode": {
    "name": "ipython",
    "version": 3
   },
   "file_extension": ".py",
   "mimetype": "text/x-python",
   "name": "python",
   "nbconvert_exporter": "python",
   "pygments_lexer": "ipython3",
   "version": "3.13.3"
  }
 },
 "nbformat": 4,
 "nbformat_minor": 5
}
